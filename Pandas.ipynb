{
 "cells": [
  {
   "cell_type": "code",
   "execution_count": 1,
   "id": "fdedac52",
   "metadata": {},
   "outputs": [],
   "source": [
    "import pandas as pd\n",
    "import numpy as np"
   ]
  },
  {
   "cell_type": "code",
   "execution_count": 2,
   "id": "3b5bdf3f",
   "metadata": {},
   "outputs": [],
   "source": [
    "s = pd.Series([1,2,3,4,5,6,np.nan,8,9,10])"
   ]
  },
  {
   "cell_type": "code",
   "execution_count": 3,
   "id": "eecb3a60",
   "metadata": {},
   "outputs": [
    {
     "data": {
      "text/plain": [
       "0     1.0\n",
       "1     2.0\n",
       "2     3.0\n",
       "3     4.0\n",
       "4     5.0\n",
       "5     6.0\n",
       "6     NaN\n",
       "7     8.0\n",
       "8     9.0\n",
       "9    10.0\n",
       "dtype: float64"
      ]
     },
     "execution_count": 3,
     "metadata": {},
     "output_type": "execute_result"
    }
   ],
   "source": [
    "s"
   ]
  },
  {
   "cell_type": "code",
   "execution_count": 4,
   "id": "ccebc8a8",
   "metadata": {},
   "outputs": [
    {
     "data": {
      "text/plain": [
       "0     1.0\n",
       "1     2.0\n",
       "2     3.0\n",
       "3     4.0\n",
       "4     5.0\n",
       "5     6.0\n",
       "6     NaN\n",
       "7     8.0\n",
       "8     9.0\n",
       "9    10.0\n",
       "dtype: float64"
      ]
     },
     "execution_count": 4,
     "metadata": {},
     "output_type": "execute_result"
    }
   ],
   "source": [
    "s"
   ]
  },
  {
   "cell_type": "code",
   "execution_count": 5,
   "id": "3b468a11",
   "metadata": {},
   "outputs": [
    {
     "name": "stdout",
     "output_type": "stream",
     "text": [
      "0     1.0\n",
      "1     2.0\n",
      "2     3.0\n",
      "3     4.0\n",
      "4     5.0\n",
      "5     6.0\n",
      "6     NaN\n",
      "7     8.0\n",
      "8     9.0\n",
      "9    10.0\n",
      "dtype: float64\n"
     ]
    }
   ],
   "source": [
    "print(s)"
   ]
  },
  {
   "cell_type": "code",
   "execution_count": 6,
   "id": "0779fe3c",
   "metadata": {},
   "outputs": [],
   "source": [
    "d = pd.date_range('20200301', periods=10)"
   ]
  },
  {
   "cell_type": "code",
   "execution_count": 7,
   "id": "28b7b81e",
   "metadata": {},
   "outputs": [
    {
     "data": {
      "text/plain": [
       "DatetimeIndex(['2020-03-01', '2020-03-02', '2020-03-03', '2020-03-04',\n",
       "               '2020-03-05', '2020-03-06', '2020-03-07', '2020-03-08',\n",
       "               '2020-03-09', '2020-03-10'],\n",
       "              dtype='datetime64[ns]', freq='D')"
      ]
     },
     "execution_count": 7,
     "metadata": {},
     "output_type": "execute_result"
    }
   ],
   "source": [
    "d"
   ]
  },
  {
   "cell_type": "code",
   "execution_count": 8,
   "id": "4bd5c93e",
   "metadata": {},
   "outputs": [],
   "source": [
    "df = pd.DataFrame(np.random.randn(10,4), index=d,columns=['A','B','C','D'])"
   ]
  },
  {
   "cell_type": "code",
   "execution_count": 9,
   "id": "c6c2006b",
   "metadata": {},
   "outputs": [
    {
     "ename": "NameError",
     "evalue": "name 'DF' is not defined",
     "output_type": "error",
     "traceback": [
      "\u001b[1;31m---------------------------------------------------------------------------\u001b[0m",
      "\u001b[1;31mNameError\u001b[0m                                 Traceback (most recent call last)",
      "\u001b[1;32m~\\AppData\\Local\\Temp/ipykernel_8356/1905653074.py\u001b[0m in \u001b[0;36m<module>\u001b[1;34m\u001b[0m\n\u001b[1;32m----> 1\u001b[1;33m \u001b[0mDF\u001b[0m\u001b[1;33m\u001b[0m\u001b[1;33m\u001b[0m\u001b[0m\n\u001b[0m",
      "\u001b[1;31mNameError\u001b[0m: name 'DF' is not defined"
     ]
    }
   ],
   "source": [
    "DF"
   ]
  },
  {
   "cell_type": "code",
   "execution_count": null,
   "id": "10e88f00",
   "metadata": {},
   "outputs": [],
   "source": [
    "df"
   ]
  },
  {
   "cell_type": "code",
   "execution_count": null,
   "id": "e3358685",
   "metadata": {},
   "outputs": [],
   "source": [
    "df"
   ]
  },
  {
   "cell_type": "code",
   "execution_count": null,
   "id": "2f5a28e3",
   "metadata": {},
   "outputs": [],
   "source": [
    "df"
   ]
  },
  {
   "cell_type": "code",
   "execution_count": null,
   "id": "e8b772f9",
   "metadata": {},
   "outputs": [],
   "source": [
    "df"
   ]
  },
  {
   "cell_type": "code",
   "execution_count": null,
   "id": "ed99083b",
   "metadata": {},
   "outputs": [],
   "source": [
    "df"
   ]
  },
  {
   "cell_type": "code",
   "execution_count": null,
   "id": "5b0d15c6",
   "metadata": {},
   "outputs": [],
   "source": [
    "df1 = pd.DataFrame({'A': [1,2,3,4],\n",
    "                   'B': pd.Timestamp('20200301'),\n",
    "                   'C': pd.Series(1,index=list(range(4)), dtype='float32'),\n",
    "                   'D': np.array([5]*4, dtype='int32'),\n",
    "                   'E': pd.Categorical(['true','False','True','False']),\n",
    "                   'F': 'Edureka'})"
   ]
  },
  {
   "cell_type": "code",
   "execution_count": null,
   "id": "b640b474",
   "metadata": {
    "scrolled": true
   },
   "outputs": [],
   "source": [
    "df1"
   ]
  },
  {
   "cell_type": "code",
   "execution_count": null,
   "id": "a63bb092",
   "metadata": {},
   "outputs": [],
   "source": [
    "df1.dtypes"
   ]
  },
  {
   "cell_type": "code",
   "execution_count": null,
   "id": "c56382cc",
   "metadata": {},
   "outputs": [],
   "source": [
    "df1"
   ]
  },
  {
   "cell_type": "code",
   "execution_count": 10,
   "id": "8f929394",
   "metadata": {},
   "outputs": [
    {
     "data": {
      "text/plain": [
       "A    float64\n",
       "B    float64\n",
       "C    float64\n",
       "D    float64\n",
       "dtype: object"
      ]
     },
     "execution_count": 10,
     "metadata": {},
     "output_type": "execute_result"
    }
   ],
   "source": [
    " df.dtypes"
   ]
  },
  {
   "cell_type": "code",
   "execution_count": 11,
   "id": "98c052c0",
   "metadata": {},
   "outputs": [
    {
     "data": {
      "text/html": [
       "<div>\n",
       "<style scoped>\n",
       "    .dataframe tbody tr th:only-of-type {\n",
       "        vertical-align: middle;\n",
       "    }\n",
       "\n",
       "    .dataframe tbody tr th {\n",
       "        vertical-align: top;\n",
       "    }\n",
       "\n",
       "    .dataframe thead th {\n",
       "        text-align: right;\n",
       "    }\n",
       "</style>\n",
       "<table border=\"1\" class=\"dataframe\">\n",
       "  <thead>\n",
       "    <tr style=\"text-align: right;\">\n",
       "      <th></th>\n",
       "      <th>A</th>\n",
       "      <th>B</th>\n",
       "      <th>C</th>\n",
       "      <th>D</th>\n",
       "    </tr>\n",
       "  </thead>\n",
       "  <tbody>\n",
       "    <tr>\n",
       "      <th>2020-03-01</th>\n",
       "      <td>0.872872</td>\n",
       "      <td>1.253400</td>\n",
       "      <td>-1.218601</td>\n",
       "      <td>0.741634</td>\n",
       "    </tr>\n",
       "    <tr>\n",
       "      <th>2020-03-02</th>\n",
       "      <td>-0.892890</td>\n",
       "      <td>-0.412049</td>\n",
       "      <td>-0.577314</td>\n",
       "      <td>-0.648060</td>\n",
       "    </tr>\n",
       "    <tr>\n",
       "      <th>2020-03-03</th>\n",
       "      <td>-0.238595</td>\n",
       "      <td>1.441907</td>\n",
       "      <td>-0.392793</td>\n",
       "      <td>0.950662</td>\n",
       "    </tr>\n",
       "    <tr>\n",
       "      <th>2020-03-04</th>\n",
       "      <td>-0.617084</td>\n",
       "      <td>-0.667030</td>\n",
       "      <td>1.463105</td>\n",
       "      <td>0.737294</td>\n",
       "    </tr>\n",
       "    <tr>\n",
       "      <th>2020-03-05</th>\n",
       "      <td>0.670977</td>\n",
       "      <td>1.002021</td>\n",
       "      <td>-0.196128</td>\n",
       "      <td>-0.243665</td>\n",
       "    </tr>\n",
       "  </tbody>\n",
       "</table>\n",
       "</div>"
      ],
      "text/plain": [
       "                   A         B         C         D\n",
       "2020-03-01  0.872872  1.253400 -1.218601  0.741634\n",
       "2020-03-02 -0.892890 -0.412049 -0.577314 -0.648060\n",
       "2020-03-03 -0.238595  1.441907 -0.392793  0.950662\n",
       "2020-03-04 -0.617084 -0.667030  1.463105  0.737294\n",
       "2020-03-05  0.670977  1.002021 -0.196128 -0.243665"
      ]
     },
     "execution_count": 11,
     "metadata": {},
     "output_type": "execute_result"
    }
   ],
   "source": [
    "df.head()"
   ]
  },
  {
   "cell_type": "code",
   "execution_count": 12,
   "id": "7b15a337",
   "metadata": {},
   "outputs": [
    {
     "data": {
      "text/html": [
       "<div>\n",
       "<style scoped>\n",
       "    .dataframe tbody tr th:only-of-type {\n",
       "        vertical-align: middle;\n",
       "    }\n",
       "\n",
       "    .dataframe tbody tr th {\n",
       "        vertical-align: top;\n",
       "    }\n",
       "\n",
       "    .dataframe thead th {\n",
       "        text-align: right;\n",
       "    }\n",
       "</style>\n",
       "<table border=\"1\" class=\"dataframe\">\n",
       "  <thead>\n",
       "    <tr style=\"text-align: right;\">\n",
       "      <th></th>\n",
       "      <th>A</th>\n",
       "      <th>B</th>\n",
       "      <th>C</th>\n",
       "      <th>D</th>\n",
       "    </tr>\n",
       "  </thead>\n",
       "  <tbody>\n",
       "    <tr>\n",
       "      <th>2020-03-06</th>\n",
       "      <td>0.359448</td>\n",
       "      <td>0.929619</td>\n",
       "      <td>-1.563963</td>\n",
       "      <td>-0.005561</td>\n",
       "    </tr>\n",
       "    <tr>\n",
       "      <th>2020-03-07</th>\n",
       "      <td>-1.234425</td>\n",
       "      <td>-0.201504</td>\n",
       "      <td>1.337142</td>\n",
       "      <td>0.911917</td>\n",
       "    </tr>\n",
       "    <tr>\n",
       "      <th>2020-03-08</th>\n",
       "      <td>0.630641</td>\n",
       "      <td>-0.984252</td>\n",
       "      <td>-0.014250</td>\n",
       "      <td>-0.176882</td>\n",
       "    </tr>\n",
       "    <tr>\n",
       "      <th>2020-03-09</th>\n",
       "      <td>-0.840895</td>\n",
       "      <td>-0.981196</td>\n",
       "      <td>0.104600</td>\n",
       "      <td>-0.208831</td>\n",
       "    </tr>\n",
       "    <tr>\n",
       "      <th>2020-03-10</th>\n",
       "      <td>0.386677</td>\n",
       "      <td>-1.097337</td>\n",
       "      <td>-1.270229</td>\n",
       "      <td>2.098425</td>\n",
       "    </tr>\n",
       "  </tbody>\n",
       "</table>\n",
       "</div>"
      ],
      "text/plain": [
       "                   A         B         C         D\n",
       "2020-03-06  0.359448  0.929619 -1.563963 -0.005561\n",
       "2020-03-07 -1.234425 -0.201504  1.337142  0.911917\n",
       "2020-03-08  0.630641 -0.984252 -0.014250 -0.176882\n",
       "2020-03-09 -0.840895 -0.981196  0.104600 -0.208831\n",
       "2020-03-10  0.386677 -1.097337 -1.270229  2.098425"
      ]
     },
     "execution_count": 12,
     "metadata": {},
     "output_type": "execute_result"
    }
   ],
   "source": [
    "df.tail()"
   ]
  },
  {
   "cell_type": "code",
   "execution_count": 13,
   "id": "87dee84c",
   "metadata": {},
   "outputs": [
    {
     "ename": "TypeError",
     "evalue": "'DatetimeIndex' object is not callable",
     "output_type": "error",
     "traceback": [
      "\u001b[1;31m---------------------------------------------------------------------------\u001b[0m",
      "\u001b[1;31mTypeError\u001b[0m                                 Traceback (most recent call last)",
      "\u001b[1;32m~\\AppData\\Local\\Temp/ipykernel_8356/1296990874.py\u001b[0m in \u001b[0;36m<module>\u001b[1;34m\u001b[0m\n\u001b[1;32m----> 1\u001b[1;33m \u001b[0mdf\u001b[0m\u001b[1;33m.\u001b[0m\u001b[0mindex\u001b[0m\u001b[1;33m(\u001b[0m\u001b[1;33m)\u001b[0m\u001b[1;33m\u001b[0m\u001b[1;33m\u001b[0m\u001b[0m\n\u001b[0m",
      "\u001b[1;31mTypeError\u001b[0m: 'DatetimeIndex' object is not callable"
     ]
    }
   ],
   "source": [
    " df.index()"
   ]
  },
  {
   "cell_type": "code",
   "execution_count": 14,
   "id": "8ae3f22c",
   "metadata": {},
   "outputs": [
    {
     "data": {
      "text/plain": [
       "DatetimeIndex(['2020-03-01', '2020-03-02', '2020-03-03', '2020-03-04',\n",
       "               '2020-03-05', '2020-03-06', '2020-03-07', '2020-03-08',\n",
       "               '2020-03-09', '2020-03-10'],\n",
       "              dtype='datetime64[ns]', freq='D')"
      ]
     },
     "execution_count": 14,
     "metadata": {},
     "output_type": "execute_result"
    }
   ],
   "source": [
    "df.index"
   ]
  },
  {
   "cell_type": "code",
   "execution_count": 15,
   "id": "0c7ac1c9",
   "metadata": {},
   "outputs": [
    {
     "data": {
      "text/plain": [
       "Index(['A', 'B', 'C', 'D'], dtype='object')"
      ]
     },
     "execution_count": 15,
     "metadata": {},
     "output_type": "execute_result"
    }
   ],
   "source": [
    "df.columns"
   ]
  },
  {
   "cell_type": "code",
   "execution_count": 17,
   "id": "3259d8d2",
   "metadata": {},
   "outputs": [
    {
     "data": {
      "text/plain": [
       "array([[ 0.87287225,  1.25340002, -1.21860089,  0.74163404],\n",
       "       [-0.89289022, -0.41204872, -0.57731387, -0.64806012],\n",
       "       [-0.23859499,  1.44190707, -0.39279255,  0.95066213],\n",
       "       [-0.61708364, -0.66703006,  1.46310527,  0.73729447],\n",
       "       [ 0.67097732,  1.00202115, -0.19612788, -0.24366464],\n",
       "       [ 0.35944822,  0.92961904, -1.56396326, -0.00556118],\n",
       "       [-1.23442506, -0.20150363,  1.33714207,  0.91191656],\n",
       "       [ 0.6306412 , -0.98425177, -0.01424977, -0.17688204],\n",
       "       [-0.84089466, -0.98119553,  0.10459964, -0.2088314 ],\n",
       "       [ 0.38667703, -1.09733696, -1.2702286 ,  2.09842514]])"
      ]
     },
     "execution_count": 17,
     "metadata": {},
     "output_type": "execute_result"
    }
   ],
   "source": [
    "df.to_numpy()"
   ]
  },
  {
   "cell_type": "code",
   "execution_count": 18,
   "id": "ac9426e6",
   "metadata": {},
   "outputs": [
    {
     "data": {
      "text/html": [
       "<div>\n",
       "<style scoped>\n",
       "    .dataframe tbody tr th:only-of-type {\n",
       "        vertical-align: middle;\n",
       "    }\n",
       "\n",
       "    .dataframe tbody tr th {\n",
       "        vertical-align: top;\n",
       "    }\n",
       "\n",
       "    .dataframe thead th {\n",
       "        text-align: right;\n",
       "    }\n",
       "</style>\n",
       "<table border=\"1\" class=\"dataframe\">\n",
       "  <thead>\n",
       "    <tr style=\"text-align: right;\">\n",
       "      <th></th>\n",
       "      <th>A</th>\n",
       "      <th>B</th>\n",
       "      <th>C</th>\n",
       "      <th>D</th>\n",
       "    </tr>\n",
       "  </thead>\n",
       "  <tbody>\n",
       "    <tr>\n",
       "      <th>count</th>\n",
       "      <td>10.000000</td>\n",
       "      <td>10.000000</td>\n",
       "      <td>10.000000</td>\n",
       "      <td>10.000000</td>\n",
       "    </tr>\n",
       "    <tr>\n",
       "      <th>mean</th>\n",
       "      <td>-0.090327</td>\n",
       "      <td>0.028358</td>\n",
       "      <td>-0.232843</td>\n",
       "      <td>0.415693</td>\n",
       "    </tr>\n",
       "    <tr>\n",
       "      <th>std</th>\n",
       "      <td>0.765422</td>\n",
       "      <td>1.016599</td>\n",
       "      <td>1.025676</td>\n",
       "      <td>0.820477</td>\n",
       "    </tr>\n",
       "    <tr>\n",
       "      <th>min</th>\n",
       "      <td>-1.234425</td>\n",
       "      <td>-1.097337</td>\n",
       "      <td>-1.563963</td>\n",
       "      <td>-0.648060</td>\n",
       "    </tr>\n",
       "    <tr>\n",
       "      <th>25%</th>\n",
       "      <td>-0.784942</td>\n",
       "      <td>-0.902654</td>\n",
       "      <td>-1.058279</td>\n",
       "      <td>-0.200844</td>\n",
       "    </tr>\n",
       "    <tr>\n",
       "      <th>50%</th>\n",
       "      <td>0.060427</td>\n",
       "      <td>-0.306776</td>\n",
       "      <td>-0.294460</td>\n",
       "      <td>0.365867</td>\n",
       "    </tr>\n",
       "    <tr>\n",
       "      <th>75%</th>\n",
       "      <td>0.569650</td>\n",
       "      <td>0.983921</td>\n",
       "      <td>0.074887</td>\n",
       "      <td>0.869346</td>\n",
       "    </tr>\n",
       "    <tr>\n",
       "      <th>max</th>\n",
       "      <td>0.872872</td>\n",
       "      <td>1.441907</td>\n",
       "      <td>1.463105</td>\n",
       "      <td>2.098425</td>\n",
       "    </tr>\n",
       "  </tbody>\n",
       "</table>\n",
       "</div>"
      ],
      "text/plain": [
       "               A          B          C          D\n",
       "count  10.000000  10.000000  10.000000  10.000000\n",
       "mean   -0.090327   0.028358  -0.232843   0.415693\n",
       "std     0.765422   1.016599   1.025676   0.820477\n",
       "min    -1.234425  -1.097337  -1.563963  -0.648060\n",
       "25%    -0.784942  -0.902654  -1.058279  -0.200844\n",
       "50%     0.060427  -0.306776  -0.294460   0.365867\n",
       "75%     0.569650   0.983921   0.074887   0.869346\n",
       "max     0.872872   1.441907   1.463105   2.098425"
      ]
     },
     "execution_count": 18,
     "metadata": {},
     "output_type": "execute_result"
    }
   ],
   "source": [
    "df.describe()"
   ]
  },
  {
   "cell_type": "code",
   "execution_count": 19,
   "id": "8f93bd13",
   "metadata": {},
   "outputs": [
    {
     "data": {
      "text/html": [
       "<div>\n",
       "<style scoped>\n",
       "    .dataframe tbody tr th:only-of-type {\n",
       "        vertical-align: middle;\n",
       "    }\n",
       "\n",
       "    .dataframe tbody tr th {\n",
       "        vertical-align: top;\n",
       "    }\n",
       "\n",
       "    .dataframe thead th {\n",
       "        text-align: right;\n",
       "    }\n",
       "</style>\n",
       "<table border=\"1\" class=\"dataframe\">\n",
       "  <thead>\n",
       "    <tr style=\"text-align: right;\">\n",
       "      <th></th>\n",
       "      <th>D</th>\n",
       "      <th>C</th>\n",
       "      <th>B</th>\n",
       "      <th>A</th>\n",
       "    </tr>\n",
       "  </thead>\n",
       "  <tbody>\n",
       "    <tr>\n",
       "      <th>2020-03-01</th>\n",
       "      <td>0.741634</td>\n",
       "      <td>-1.218601</td>\n",
       "      <td>1.253400</td>\n",
       "      <td>0.872872</td>\n",
       "    </tr>\n",
       "    <tr>\n",
       "      <th>2020-03-02</th>\n",
       "      <td>-0.648060</td>\n",
       "      <td>-0.577314</td>\n",
       "      <td>-0.412049</td>\n",
       "      <td>-0.892890</td>\n",
       "    </tr>\n",
       "    <tr>\n",
       "      <th>2020-03-03</th>\n",
       "      <td>0.950662</td>\n",
       "      <td>-0.392793</td>\n",
       "      <td>1.441907</td>\n",
       "      <td>-0.238595</td>\n",
       "    </tr>\n",
       "    <tr>\n",
       "      <th>2020-03-04</th>\n",
       "      <td>0.737294</td>\n",
       "      <td>1.463105</td>\n",
       "      <td>-0.667030</td>\n",
       "      <td>-0.617084</td>\n",
       "    </tr>\n",
       "    <tr>\n",
       "      <th>2020-03-05</th>\n",
       "      <td>-0.243665</td>\n",
       "      <td>-0.196128</td>\n",
       "      <td>1.002021</td>\n",
       "      <td>0.670977</td>\n",
       "    </tr>\n",
       "    <tr>\n",
       "      <th>2020-03-06</th>\n",
       "      <td>-0.005561</td>\n",
       "      <td>-1.563963</td>\n",
       "      <td>0.929619</td>\n",
       "      <td>0.359448</td>\n",
       "    </tr>\n",
       "    <tr>\n",
       "      <th>2020-03-07</th>\n",
       "      <td>0.911917</td>\n",
       "      <td>1.337142</td>\n",
       "      <td>-0.201504</td>\n",
       "      <td>-1.234425</td>\n",
       "    </tr>\n",
       "    <tr>\n",
       "      <th>2020-03-08</th>\n",
       "      <td>-0.176882</td>\n",
       "      <td>-0.014250</td>\n",
       "      <td>-0.984252</td>\n",
       "      <td>0.630641</td>\n",
       "    </tr>\n",
       "    <tr>\n",
       "      <th>2020-03-09</th>\n",
       "      <td>-0.208831</td>\n",
       "      <td>0.104600</td>\n",
       "      <td>-0.981196</td>\n",
       "      <td>-0.840895</td>\n",
       "    </tr>\n",
       "    <tr>\n",
       "      <th>2020-03-10</th>\n",
       "      <td>2.098425</td>\n",
       "      <td>-1.270229</td>\n",
       "      <td>-1.097337</td>\n",
       "      <td>0.386677</td>\n",
       "    </tr>\n",
       "  </tbody>\n",
       "</table>\n",
       "</div>"
      ],
      "text/plain": [
       "                   D         C         B         A\n",
       "2020-03-01  0.741634 -1.218601  1.253400  0.872872\n",
       "2020-03-02 -0.648060 -0.577314 -0.412049 -0.892890\n",
       "2020-03-03  0.950662 -0.392793  1.441907 -0.238595\n",
       "2020-03-04  0.737294  1.463105 -0.667030 -0.617084\n",
       "2020-03-05 -0.243665 -0.196128  1.002021  0.670977\n",
       "2020-03-06 -0.005561 -1.563963  0.929619  0.359448\n",
       "2020-03-07  0.911917  1.337142 -0.201504 -1.234425\n",
       "2020-03-08 -0.176882 -0.014250 -0.984252  0.630641\n",
       "2020-03-09 -0.208831  0.104600 -0.981196 -0.840895\n",
       "2020-03-10  2.098425 -1.270229 -1.097337  0.386677"
      ]
     },
     "execution_count": 19,
     "metadata": {},
     "output_type": "execute_result"
    }
   ],
   "source": [
    "df.sort_index(axis=1,ascending=False)"
   ]
  },
  {
   "cell_type": "code",
   "execution_count": 20,
   "id": "bb4d2c05",
   "metadata": {
    "scrolled": true
   },
   "outputs": [
    {
     "data": {
      "text/html": [
       "<div>\n",
       "<style scoped>\n",
       "    .dataframe tbody tr th:only-of-type {\n",
       "        vertical-align: middle;\n",
       "    }\n",
       "\n",
       "    .dataframe tbody tr th {\n",
       "        vertical-align: top;\n",
       "    }\n",
       "\n",
       "    .dataframe thead th {\n",
       "        text-align: right;\n",
       "    }\n",
       "</style>\n",
       "<table border=\"1\" class=\"dataframe\">\n",
       "  <thead>\n",
       "    <tr style=\"text-align: right;\">\n",
       "      <th></th>\n",
       "      <th>A</th>\n",
       "      <th>B</th>\n",
       "      <th>C</th>\n",
       "      <th>D</th>\n",
       "    </tr>\n",
       "  </thead>\n",
       "  <tbody>\n",
       "    <tr>\n",
       "      <th>2020-03-10</th>\n",
       "      <td>0.386677</td>\n",
       "      <td>-1.097337</td>\n",
       "      <td>-1.270229</td>\n",
       "      <td>2.098425</td>\n",
       "    </tr>\n",
       "    <tr>\n",
       "      <th>2020-03-09</th>\n",
       "      <td>-0.840895</td>\n",
       "      <td>-0.981196</td>\n",
       "      <td>0.104600</td>\n",
       "      <td>-0.208831</td>\n",
       "    </tr>\n",
       "    <tr>\n",
       "      <th>2020-03-08</th>\n",
       "      <td>0.630641</td>\n",
       "      <td>-0.984252</td>\n",
       "      <td>-0.014250</td>\n",
       "      <td>-0.176882</td>\n",
       "    </tr>\n",
       "    <tr>\n",
       "      <th>2020-03-07</th>\n",
       "      <td>-1.234425</td>\n",
       "      <td>-0.201504</td>\n",
       "      <td>1.337142</td>\n",
       "      <td>0.911917</td>\n",
       "    </tr>\n",
       "    <tr>\n",
       "      <th>2020-03-06</th>\n",
       "      <td>0.359448</td>\n",
       "      <td>0.929619</td>\n",
       "      <td>-1.563963</td>\n",
       "      <td>-0.005561</td>\n",
       "    </tr>\n",
       "    <tr>\n",
       "      <th>2020-03-05</th>\n",
       "      <td>0.670977</td>\n",
       "      <td>1.002021</td>\n",
       "      <td>-0.196128</td>\n",
       "      <td>-0.243665</td>\n",
       "    </tr>\n",
       "    <tr>\n",
       "      <th>2020-03-04</th>\n",
       "      <td>-0.617084</td>\n",
       "      <td>-0.667030</td>\n",
       "      <td>1.463105</td>\n",
       "      <td>0.737294</td>\n",
       "    </tr>\n",
       "    <tr>\n",
       "      <th>2020-03-03</th>\n",
       "      <td>-0.238595</td>\n",
       "      <td>1.441907</td>\n",
       "      <td>-0.392793</td>\n",
       "      <td>0.950662</td>\n",
       "    </tr>\n",
       "    <tr>\n",
       "      <th>2020-03-02</th>\n",
       "      <td>-0.892890</td>\n",
       "      <td>-0.412049</td>\n",
       "      <td>-0.577314</td>\n",
       "      <td>-0.648060</td>\n",
       "    </tr>\n",
       "    <tr>\n",
       "      <th>2020-03-01</th>\n",
       "      <td>0.872872</td>\n",
       "      <td>1.253400</td>\n",
       "      <td>-1.218601</td>\n",
       "      <td>0.741634</td>\n",
       "    </tr>\n",
       "  </tbody>\n",
       "</table>\n",
       "</div>"
      ],
      "text/plain": [
       "                   A         B         C         D\n",
       "2020-03-10  0.386677 -1.097337 -1.270229  2.098425\n",
       "2020-03-09 -0.840895 -0.981196  0.104600 -0.208831\n",
       "2020-03-08  0.630641 -0.984252 -0.014250 -0.176882\n",
       "2020-03-07 -1.234425 -0.201504  1.337142  0.911917\n",
       "2020-03-06  0.359448  0.929619 -1.563963 -0.005561\n",
       "2020-03-05  0.670977  1.002021 -0.196128 -0.243665\n",
       "2020-03-04 -0.617084 -0.667030  1.463105  0.737294\n",
       "2020-03-03 -0.238595  1.441907 -0.392793  0.950662\n",
       "2020-03-02 -0.892890 -0.412049 -0.577314 -0.648060\n",
       "2020-03-01  0.872872  1.253400 -1.218601  0.741634"
      ]
     },
     "execution_count": 20,
     "metadata": {},
     "output_type": "execute_result"
    }
   ],
   "source": [
    "df.sort_index(axis=0,ascending=False)"
   ]
  },
  {
   "cell_type": "code",
   "execution_count": 21,
   "id": "51630e02",
   "metadata": {
    "scrolled": true
   },
   "outputs": [
    {
     "data": {
      "text/html": [
       "<div>\n",
       "<style scoped>\n",
       "    .dataframe tbody tr th:only-of-type {\n",
       "        vertical-align: middle;\n",
       "    }\n",
       "\n",
       "    .dataframe tbody tr th {\n",
       "        vertical-align: top;\n",
       "    }\n",
       "\n",
       "    .dataframe thead th {\n",
       "        text-align: right;\n",
       "    }\n",
       "</style>\n",
       "<table border=\"1\" class=\"dataframe\">\n",
       "  <thead>\n",
       "    <tr style=\"text-align: right;\">\n",
       "      <th></th>\n",
       "      <th>A</th>\n",
       "      <th>B</th>\n",
       "      <th>C</th>\n",
       "      <th>D</th>\n",
       "    </tr>\n",
       "  </thead>\n",
       "  <tbody>\n",
       "    <tr>\n",
       "      <th>2020-03-06</th>\n",
       "      <td>0.359448</td>\n",
       "      <td>0.929619</td>\n",
       "      <td>-1.563963</td>\n",
       "      <td>-0.005561</td>\n",
       "    </tr>\n",
       "    <tr>\n",
       "      <th>2020-03-10</th>\n",
       "      <td>0.386677</td>\n",
       "      <td>-1.097337</td>\n",
       "      <td>-1.270229</td>\n",
       "      <td>2.098425</td>\n",
       "    </tr>\n",
       "    <tr>\n",
       "      <th>2020-03-01</th>\n",
       "      <td>0.872872</td>\n",
       "      <td>1.253400</td>\n",
       "      <td>-1.218601</td>\n",
       "      <td>0.741634</td>\n",
       "    </tr>\n",
       "    <tr>\n",
       "      <th>2020-03-02</th>\n",
       "      <td>-0.892890</td>\n",
       "      <td>-0.412049</td>\n",
       "      <td>-0.577314</td>\n",
       "      <td>-0.648060</td>\n",
       "    </tr>\n",
       "    <tr>\n",
       "      <th>2020-03-03</th>\n",
       "      <td>-0.238595</td>\n",
       "      <td>1.441907</td>\n",
       "      <td>-0.392793</td>\n",
       "      <td>0.950662</td>\n",
       "    </tr>\n",
       "    <tr>\n",
       "      <th>2020-03-05</th>\n",
       "      <td>0.670977</td>\n",
       "      <td>1.002021</td>\n",
       "      <td>-0.196128</td>\n",
       "      <td>-0.243665</td>\n",
       "    </tr>\n",
       "    <tr>\n",
       "      <th>2020-03-08</th>\n",
       "      <td>0.630641</td>\n",
       "      <td>-0.984252</td>\n",
       "      <td>-0.014250</td>\n",
       "      <td>-0.176882</td>\n",
       "    </tr>\n",
       "    <tr>\n",
       "      <th>2020-03-09</th>\n",
       "      <td>-0.840895</td>\n",
       "      <td>-0.981196</td>\n",
       "      <td>0.104600</td>\n",
       "      <td>-0.208831</td>\n",
       "    </tr>\n",
       "    <tr>\n",
       "      <th>2020-03-07</th>\n",
       "      <td>-1.234425</td>\n",
       "      <td>-0.201504</td>\n",
       "      <td>1.337142</td>\n",
       "      <td>0.911917</td>\n",
       "    </tr>\n",
       "    <tr>\n",
       "      <th>2020-03-04</th>\n",
       "      <td>-0.617084</td>\n",
       "      <td>-0.667030</td>\n",
       "      <td>1.463105</td>\n",
       "      <td>0.737294</td>\n",
       "    </tr>\n",
       "  </tbody>\n",
       "</table>\n",
       "</div>"
      ],
      "text/plain": [
       "                   A         B         C         D\n",
       "2020-03-06  0.359448  0.929619 -1.563963 -0.005561\n",
       "2020-03-10  0.386677 -1.097337 -1.270229  2.098425\n",
       "2020-03-01  0.872872  1.253400 -1.218601  0.741634\n",
       "2020-03-02 -0.892890 -0.412049 -0.577314 -0.648060\n",
       "2020-03-03 -0.238595  1.441907 -0.392793  0.950662\n",
       "2020-03-05  0.670977  1.002021 -0.196128 -0.243665\n",
       "2020-03-08  0.630641 -0.984252 -0.014250 -0.176882\n",
       "2020-03-09 -0.840895 -0.981196  0.104600 -0.208831\n",
       "2020-03-07 -1.234425 -0.201504  1.337142  0.911917\n",
       "2020-03-04 -0.617084 -0.667030  1.463105  0.737294"
      ]
     },
     "execution_count": 21,
     "metadata": {},
     "output_type": "execute_result"
    }
   ],
   "source": [
    "df.sort_values(by='C')"
   ]
  },
  {
   "cell_type": "code",
   "execution_count": 22,
   "id": "3512ecfe",
   "metadata": {},
   "outputs": [
    {
     "data": {
      "text/plain": [
       "2020-03-01   -1.218601\n",
       "2020-03-02   -0.577314\n",
       "2020-03-03   -0.392793\n",
       "2020-03-04    1.463105\n",
       "2020-03-05   -0.196128\n",
       "2020-03-06   -1.563963\n",
       "2020-03-07    1.337142\n",
       "2020-03-08   -0.014250\n",
       "2020-03-09    0.104600\n",
       "2020-03-10   -1.270229\n",
       "Freq: D, Name: C, dtype: float64"
      ]
     },
     "execution_count": 22,
     "metadata": {},
     "output_type": "execute_result"
    }
   ],
   "source": [
    "df['C']"
   ]
  },
  {
   "cell_type": "code",
   "execution_count": 23,
   "id": "1c85fb61",
   "metadata": {},
   "outputs": [
    {
     "data": {
      "text/html": [
       "<div>\n",
       "<style scoped>\n",
       "    .dataframe tbody tr th:only-of-type {\n",
       "        vertical-align: middle;\n",
       "    }\n",
       "\n",
       "    .dataframe tbody tr th {\n",
       "        vertical-align: top;\n",
       "    }\n",
       "\n",
       "    .dataframe thead th {\n",
       "        text-align: right;\n",
       "    }\n",
       "</style>\n",
       "<table border=\"1\" class=\"dataframe\">\n",
       "  <thead>\n",
       "    <tr style=\"text-align: right;\">\n",
       "      <th></th>\n",
       "      <th>A</th>\n",
       "      <th>B</th>\n",
       "      <th>C</th>\n",
       "      <th>D</th>\n",
       "    </tr>\n",
       "  </thead>\n",
       "  <tbody>\n",
       "    <tr>\n",
       "      <th>2020-03-01</th>\n",
       "      <td>0.872872</td>\n",
       "      <td>1.253400</td>\n",
       "      <td>-1.218601</td>\n",
       "      <td>0.741634</td>\n",
       "    </tr>\n",
       "    <tr>\n",
       "      <th>2020-03-02</th>\n",
       "      <td>-0.892890</td>\n",
       "      <td>-0.412049</td>\n",
       "      <td>-0.577314</td>\n",
       "      <td>-0.648060</td>\n",
       "    </tr>\n",
       "    <tr>\n",
       "      <th>2020-03-03</th>\n",
       "      <td>-0.238595</td>\n",
       "      <td>1.441907</td>\n",
       "      <td>-0.392793</td>\n",
       "      <td>0.950662</td>\n",
       "    </tr>\n",
       "  </tbody>\n",
       "</table>\n",
       "</div>"
      ],
      "text/plain": [
       "                   A         B         C         D\n",
       "2020-03-01  0.872872  1.253400 -1.218601  0.741634\n",
       "2020-03-02 -0.892890 -0.412049 -0.577314 -0.648060\n",
       "2020-03-03 -0.238595  1.441907 -0.392793  0.950662"
      ]
     },
     "execution_count": 23,
     "metadata": {},
     "output_type": "execute_result"
    }
   ],
   "source": [
    "df[0:3]"
   ]
  },
  {
   "cell_type": "code",
   "execution_count": 24,
   "id": "4b6e0ef7",
   "metadata": {},
   "outputs": [
    {
     "data": {
      "text/plain": [
       "A    0.872872\n",
       "B    1.253400\n",
       "C   -1.218601\n",
       "D    0.741634\n",
       "Name: 2020-03-01 00:00:00, dtype: float64"
      ]
     },
     "execution_count": 24,
     "metadata": {},
     "output_type": "execute_result"
    }
   ],
   "source": [
    "df.loc[d[0]]"
   ]
  },
  {
   "cell_type": "code",
   "execution_count": 25,
   "id": "e3d663a7",
   "metadata": {},
   "outputs": [
    {
     "data": {
      "text/html": [
       "<div>\n",
       "<style scoped>\n",
       "    .dataframe tbody tr th:only-of-type {\n",
       "        vertical-align: middle;\n",
       "    }\n",
       "\n",
       "    .dataframe tbody tr th {\n",
       "        vertical-align: top;\n",
       "    }\n",
       "\n",
       "    .dataframe thead th {\n",
       "        text-align: right;\n",
       "    }\n",
       "</style>\n",
       "<table border=\"1\" class=\"dataframe\">\n",
       "  <thead>\n",
       "    <tr style=\"text-align: right;\">\n",
       "      <th></th>\n",
       "      <th>A</th>\n",
       "      <th>C</th>\n",
       "    </tr>\n",
       "  </thead>\n",
       "  <tbody>\n",
       "    <tr>\n",
       "      <th>2020-03-01</th>\n",
       "      <td>0.872872</td>\n",
       "      <td>-1.218601</td>\n",
       "    </tr>\n",
       "    <tr>\n",
       "      <th>2020-03-02</th>\n",
       "      <td>-0.892890</td>\n",
       "      <td>-0.577314</td>\n",
       "    </tr>\n",
       "    <tr>\n",
       "      <th>2020-03-03</th>\n",
       "      <td>-0.238595</td>\n",
       "      <td>-0.392793</td>\n",
       "    </tr>\n",
       "    <tr>\n",
       "      <th>2020-03-04</th>\n",
       "      <td>-0.617084</td>\n",
       "      <td>1.463105</td>\n",
       "    </tr>\n",
       "    <tr>\n",
       "      <th>2020-03-05</th>\n",
       "      <td>0.670977</td>\n",
       "      <td>-0.196128</td>\n",
       "    </tr>\n",
       "    <tr>\n",
       "      <th>2020-03-06</th>\n",
       "      <td>0.359448</td>\n",
       "      <td>-1.563963</td>\n",
       "    </tr>\n",
       "    <tr>\n",
       "      <th>2020-03-07</th>\n",
       "      <td>-1.234425</td>\n",
       "      <td>1.337142</td>\n",
       "    </tr>\n",
       "    <tr>\n",
       "      <th>2020-03-08</th>\n",
       "      <td>0.630641</td>\n",
       "      <td>-0.014250</td>\n",
       "    </tr>\n",
       "    <tr>\n",
       "      <th>2020-03-09</th>\n",
       "      <td>-0.840895</td>\n",
       "      <td>0.104600</td>\n",
       "    </tr>\n",
       "    <tr>\n",
       "      <th>2020-03-10</th>\n",
       "      <td>0.386677</td>\n",
       "      <td>-1.270229</td>\n",
       "    </tr>\n",
       "  </tbody>\n",
       "</table>\n",
       "</div>"
      ],
      "text/plain": [
       "                   A         C\n",
       "2020-03-01  0.872872 -1.218601\n",
       "2020-03-02 -0.892890 -0.577314\n",
       "2020-03-03 -0.238595 -0.392793\n",
       "2020-03-04 -0.617084  1.463105\n",
       "2020-03-05  0.670977 -0.196128\n",
       "2020-03-06  0.359448 -1.563963\n",
       "2020-03-07 -1.234425  1.337142\n",
       "2020-03-08  0.630641 -0.014250\n",
       "2020-03-09 -0.840895  0.104600\n",
       "2020-03-10  0.386677 -1.270229"
      ]
     },
     "execution_count": 25,
     "metadata": {},
     "output_type": "execute_result"
    }
   ],
   "source": [
    "df.loc[:,['A','C']]"
   ]
  },
  {
   "cell_type": "code",
   "execution_count": 27,
   "id": "409de382",
   "metadata": {},
   "outputs": [
    {
     "data": {
      "text/html": [
       "<div>\n",
       "<style scoped>\n",
       "    .dataframe tbody tr th:only-of-type {\n",
       "        vertical-align: middle;\n",
       "    }\n",
       "\n",
       "    .dataframe tbody tr th {\n",
       "        vertical-align: top;\n",
       "    }\n",
       "\n",
       "    .dataframe thead th {\n",
       "        text-align: right;\n",
       "    }\n",
       "</style>\n",
       "<table border=\"1\" class=\"dataframe\">\n",
       "  <thead>\n",
       "    <tr style=\"text-align: right;\">\n",
       "      <th></th>\n",
       "      <th>A</th>\n",
       "      <th>C</th>\n",
       "    </tr>\n",
       "  </thead>\n",
       "  <tbody>\n",
       "    <tr>\n",
       "      <th>2020-03-01</th>\n",
       "      <td>0.872872</td>\n",
       "      <td>-1.218601</td>\n",
       "    </tr>\n",
       "    <tr>\n",
       "      <th>2020-03-02</th>\n",
       "      <td>-0.892890</td>\n",
       "      <td>-0.577314</td>\n",
       "    </tr>\n",
       "    <tr>\n",
       "      <th>2020-03-03</th>\n",
       "      <td>-0.238595</td>\n",
       "      <td>-0.392793</td>\n",
       "    </tr>\n",
       "    <tr>\n",
       "      <th>2020-03-04</th>\n",
       "      <td>-0.617084</td>\n",
       "      <td>1.463105</td>\n",
       "    </tr>\n",
       "    <tr>\n",
       "      <th>2020-03-05</th>\n",
       "      <td>0.670977</td>\n",
       "      <td>-0.196128</td>\n",
       "    </tr>\n",
       "    <tr>\n",
       "      <th>2020-03-06</th>\n",
       "      <td>0.359448</td>\n",
       "      <td>-1.563963</td>\n",
       "    </tr>\n",
       "  </tbody>\n",
       "</table>\n",
       "</div>"
      ],
      "text/plain": [
       "                   A         C\n",
       "2020-03-01  0.872872 -1.218601\n",
       "2020-03-02 -0.892890 -0.577314\n",
       "2020-03-03 -0.238595 -0.392793\n",
       "2020-03-04 -0.617084  1.463105\n",
       "2020-03-05  0.670977 -0.196128\n",
       "2020-03-06  0.359448 -1.563963"
      ]
     },
     "execution_count": 27,
     "metadata": {},
     "output_type": "execute_result"
    }
   ],
   "source": [
    "df.loc['20200301':'20200306',['A','C']]"
   ]
  },
  {
   "cell_type": "code",
   "execution_count": 37,
   "id": "c79906c7",
   "metadata": {},
   "outputs": [
    {
     "data": {
      "text/plain": [
       "-1.2186008872084726"
      ]
     },
     "execution_count": 37,
     "metadata": {},
     "output_type": "execute_result"
    }
   ],
   "source": [
    "df.at[d[0], 'C']"
   ]
  },
  {
   "cell_type": "code",
   "execution_count": 38,
   "id": "f4b4102f",
   "metadata": {},
   "outputs": [
    {
     "data": {
      "text/plain": [
       "A   -0.617084\n",
       "B   -0.667030\n",
       "C    1.463105\n",
       "D    0.737294\n",
       "Name: 2020-03-04 00:00:00, dtype: float64"
      ]
     },
     "execution_count": 38,
     "metadata": {},
     "output_type": "execute_result"
    }
   ],
   "source": [
    "df.iloc[3]"
   ]
  },
  {
   "cell_type": "code",
   "execution_count": 39,
   "id": "7c5aa230",
   "metadata": {},
   "outputs": [
    {
     "data": {
      "text/html": [
       "<div>\n",
       "<style scoped>\n",
       "    .dataframe tbody tr th:only-of-type {\n",
       "        vertical-align: middle;\n",
       "    }\n",
       "\n",
       "    .dataframe tbody tr th {\n",
       "        vertical-align: top;\n",
       "    }\n",
       "\n",
       "    .dataframe thead th {\n",
       "        text-align: right;\n",
       "    }\n",
       "</style>\n",
       "<table border=\"1\" class=\"dataframe\">\n",
       "  <thead>\n",
       "    <tr style=\"text-align: right;\">\n",
       "      <th></th>\n",
       "      <th>A</th>\n",
       "      <th>B</th>\n",
       "      <th>C</th>\n",
       "      <th>D</th>\n",
       "    </tr>\n",
       "  </thead>\n",
       "  <tbody>\n",
       "    <tr>\n",
       "      <th>2020-03-04</th>\n",
       "      <td>-0.617084</td>\n",
       "      <td>-0.667030</td>\n",
       "      <td>1.463105</td>\n",
       "      <td>0.737294</td>\n",
       "    </tr>\n",
       "    <tr>\n",
       "      <th>2020-03-05</th>\n",
       "      <td>0.670977</td>\n",
       "      <td>1.002021</td>\n",
       "      <td>-0.196128</td>\n",
       "      <td>-0.243665</td>\n",
       "    </tr>\n",
       "  </tbody>\n",
       "</table>\n",
       "</div>"
      ],
      "text/plain": [
       "                   A         B         C         D\n",
       "2020-03-04 -0.617084 -0.667030  1.463105  0.737294\n",
       "2020-03-05  0.670977  1.002021 -0.196128 -0.243665"
      ]
     },
     "execution_count": 39,
     "metadata": {},
     "output_type": "execute_result"
    }
   ],
   "source": [
    "df.iloc[3:5]"
   ]
  },
  {
   "cell_type": "code",
   "execution_count": 40,
   "id": "f92ec9bf",
   "metadata": {},
   "outputs": [
    {
     "data": {
      "text/html": [
       "<div>\n",
       "<style scoped>\n",
       "    .dataframe tbody tr th:only-of-type {\n",
       "        vertical-align: middle;\n",
       "    }\n",
       "\n",
       "    .dataframe tbody tr th {\n",
       "        vertical-align: top;\n",
       "    }\n",
       "\n",
       "    .dataframe thead th {\n",
       "        text-align: right;\n",
       "    }\n",
       "</style>\n",
       "<table border=\"1\" class=\"dataframe\">\n",
       "  <thead>\n",
       "    <tr style=\"text-align: right;\">\n",
       "      <th></th>\n",
       "      <th>A</th>\n",
       "      <th>B</th>\n",
       "    </tr>\n",
       "  </thead>\n",
       "  <tbody>\n",
       "    <tr>\n",
       "      <th>2020-03-04</th>\n",
       "      <td>-0.617084</td>\n",
       "      <td>-0.667030</td>\n",
       "    </tr>\n",
       "    <tr>\n",
       "      <th>2020-03-05</th>\n",
       "      <td>0.670977</td>\n",
       "      <td>1.002021</td>\n",
       "    </tr>\n",
       "  </tbody>\n",
       "</table>\n",
       "</div>"
      ],
      "text/plain": [
       "                   A         B\n",
       "2020-03-04 -0.617084 -0.667030\n",
       "2020-03-05  0.670977  1.002021"
      ]
     },
     "execution_count": 40,
     "metadata": {},
     "output_type": "execute_result"
    }
   ],
   "source": [
    "df.iloc[3:5,0:2]"
   ]
  },
  {
   "cell_type": "code",
   "execution_count": 41,
   "id": "cf4c6fc7",
   "metadata": {},
   "outputs": [
    {
     "data": {
      "text/html": [
       "<div>\n",
       "<style scoped>\n",
       "    .dataframe tbody tr th:only-of-type {\n",
       "        vertical-align: middle;\n",
       "    }\n",
       "\n",
       "    .dataframe tbody tr th {\n",
       "        vertical-align: top;\n",
       "    }\n",
       "\n",
       "    .dataframe thead th {\n",
       "        text-align: right;\n",
       "    }\n",
       "</style>\n",
       "<table border=\"1\" class=\"dataframe\">\n",
       "  <thead>\n",
       "    <tr style=\"text-align: right;\">\n",
       "      <th></th>\n",
       "      <th>A</th>\n",
       "      <th>B</th>\n",
       "      <th>C</th>\n",
       "      <th>D</th>\n",
       "    </tr>\n",
       "  </thead>\n",
       "  <tbody>\n",
       "    <tr>\n",
       "      <th>2020-03-01</th>\n",
       "      <td>0.872872</td>\n",
       "      <td>1.253400</td>\n",
       "      <td>-1.218601</td>\n",
       "      <td>0.741634</td>\n",
       "    </tr>\n",
       "    <tr>\n",
       "      <th>2020-03-05</th>\n",
       "      <td>0.670977</td>\n",
       "      <td>1.002021</td>\n",
       "      <td>-0.196128</td>\n",
       "      <td>-0.243665</td>\n",
       "    </tr>\n",
       "    <tr>\n",
       "      <th>2020-03-06</th>\n",
       "      <td>0.359448</td>\n",
       "      <td>0.929619</td>\n",
       "      <td>-1.563963</td>\n",
       "      <td>-0.005561</td>\n",
       "    </tr>\n",
       "    <tr>\n",
       "      <th>2020-03-08</th>\n",
       "      <td>0.630641</td>\n",
       "      <td>-0.984252</td>\n",
       "      <td>-0.014250</td>\n",
       "      <td>-0.176882</td>\n",
       "    </tr>\n",
       "    <tr>\n",
       "      <th>2020-03-10</th>\n",
       "      <td>0.386677</td>\n",
       "      <td>-1.097337</td>\n",
       "      <td>-1.270229</td>\n",
       "      <td>2.098425</td>\n",
       "    </tr>\n",
       "  </tbody>\n",
       "</table>\n",
       "</div>"
      ],
      "text/plain": [
       "                   A         B         C         D\n",
       "2020-03-01  0.872872  1.253400 -1.218601  0.741634\n",
       "2020-03-05  0.670977  1.002021 -0.196128 -0.243665\n",
       "2020-03-06  0.359448  0.929619 -1.563963 -0.005561\n",
       "2020-03-08  0.630641 -0.984252 -0.014250 -0.176882\n",
       "2020-03-10  0.386677 -1.097337 -1.270229  2.098425"
      ]
     },
     "execution_count": 41,
     "metadata": {},
     "output_type": "execute_result"
    }
   ],
   "source": [
    "df[df['A'] > 0]"
   ]
  },
  {
   "cell_type": "code",
   "execution_count": 42,
   "id": "4528df59",
   "metadata": {},
   "outputs": [],
   "source": [
    "df2 = df.reindex(index=d[0:4], columns=list(df.columns) + ['E'])"
   ]
  },
  {
   "cell_type": "code",
   "execution_count": 43,
   "id": "121729a8",
   "metadata": {},
   "outputs": [],
   "source": [
    "df2.loc[d[0]:d[1],'E'] = 1"
   ]
  },
  {
   "cell_type": "code",
   "execution_count": 44,
   "id": "75c9cb5c",
   "metadata": {},
   "outputs": [
    {
     "data": {
      "text/html": [
       "<div>\n",
       "<style scoped>\n",
       "    .dataframe tbody tr th:only-of-type {\n",
       "        vertical-align: middle;\n",
       "    }\n",
       "\n",
       "    .dataframe tbody tr th {\n",
       "        vertical-align: top;\n",
       "    }\n",
       "\n",
       "    .dataframe thead th {\n",
       "        text-align: right;\n",
       "    }\n",
       "</style>\n",
       "<table border=\"1\" class=\"dataframe\">\n",
       "  <thead>\n",
       "    <tr style=\"text-align: right;\">\n",
       "      <th></th>\n",
       "      <th>A</th>\n",
       "      <th>B</th>\n",
       "      <th>C</th>\n",
       "      <th>D</th>\n",
       "      <th>E</th>\n",
       "    </tr>\n",
       "  </thead>\n",
       "  <tbody>\n",
       "    <tr>\n",
       "      <th>2020-03-01</th>\n",
       "      <td>0.872872</td>\n",
       "      <td>1.253400</td>\n",
       "      <td>-1.218601</td>\n",
       "      <td>0.741634</td>\n",
       "      <td>1.0</td>\n",
       "    </tr>\n",
       "    <tr>\n",
       "      <th>2020-03-02</th>\n",
       "      <td>-0.892890</td>\n",
       "      <td>-0.412049</td>\n",
       "      <td>-0.577314</td>\n",
       "      <td>-0.648060</td>\n",
       "      <td>1.0</td>\n",
       "    </tr>\n",
       "    <tr>\n",
       "      <th>2020-03-03</th>\n",
       "      <td>-0.238595</td>\n",
       "      <td>1.441907</td>\n",
       "      <td>-0.392793</td>\n",
       "      <td>0.950662</td>\n",
       "      <td>NaN</td>\n",
       "    </tr>\n",
       "    <tr>\n",
       "      <th>2020-03-04</th>\n",
       "      <td>-0.617084</td>\n",
       "      <td>-0.667030</td>\n",
       "      <td>1.463105</td>\n",
       "      <td>0.737294</td>\n",
       "      <td>NaN</td>\n",
       "    </tr>\n",
       "  </tbody>\n",
       "</table>\n",
       "</div>"
      ],
      "text/plain": [
       "                   A         B         C         D    E\n",
       "2020-03-01  0.872872  1.253400 -1.218601  0.741634  1.0\n",
       "2020-03-02 -0.892890 -0.412049 -0.577314 -0.648060  1.0\n",
       "2020-03-03 -0.238595  1.441907 -0.392793  0.950662  NaN\n",
       "2020-03-04 -0.617084 -0.667030  1.463105  0.737294  NaN"
      ]
     },
     "execution_count": 44,
     "metadata": {},
     "output_type": "execute_result"
    }
   ],
   "source": [
    "df2"
   ]
  },
  {
   "cell_type": "code",
   "execution_count": 45,
   "id": "fa25d8c8",
   "metadata": {},
   "outputs": [
    {
     "data": {
      "text/html": [
       "<div>\n",
       "<style scoped>\n",
       "    .dataframe tbody tr th:only-of-type {\n",
       "        vertical-align: middle;\n",
       "    }\n",
       "\n",
       "    .dataframe tbody tr th {\n",
       "        vertical-align: top;\n",
       "    }\n",
       "\n",
       "    .dataframe thead th {\n",
       "        text-align: right;\n",
       "    }\n",
       "</style>\n",
       "<table border=\"1\" class=\"dataframe\">\n",
       "  <thead>\n",
       "    <tr style=\"text-align: right;\">\n",
       "      <th></th>\n",
       "      <th>A</th>\n",
       "      <th>B</th>\n",
       "      <th>C</th>\n",
       "      <th>D</th>\n",
       "      <th>E</th>\n",
       "    </tr>\n",
       "  </thead>\n",
       "  <tbody>\n",
       "    <tr>\n",
       "      <th>2020-03-01</th>\n",
       "      <td>False</td>\n",
       "      <td>False</td>\n",
       "      <td>False</td>\n",
       "      <td>False</td>\n",
       "      <td>False</td>\n",
       "    </tr>\n",
       "    <tr>\n",
       "      <th>2020-03-02</th>\n",
       "      <td>False</td>\n",
       "      <td>False</td>\n",
       "      <td>False</td>\n",
       "      <td>False</td>\n",
       "      <td>False</td>\n",
       "    </tr>\n",
       "    <tr>\n",
       "      <th>2020-03-03</th>\n",
       "      <td>False</td>\n",
       "      <td>False</td>\n",
       "      <td>False</td>\n",
       "      <td>False</td>\n",
       "      <td>True</td>\n",
       "    </tr>\n",
       "    <tr>\n",
       "      <th>2020-03-04</th>\n",
       "      <td>False</td>\n",
       "      <td>False</td>\n",
       "      <td>False</td>\n",
       "      <td>False</td>\n",
       "      <td>True</td>\n",
       "    </tr>\n",
       "  </tbody>\n",
       "</table>\n",
       "</div>"
      ],
      "text/plain": [
       "                A      B      C      D      E\n",
       "2020-03-01  False  False  False  False  False\n",
       "2020-03-02  False  False  False  False  False\n",
       "2020-03-03  False  False  False  False   True\n",
       "2020-03-04  False  False  False  False   True"
      ]
     },
     "execution_count": 45,
     "metadata": {},
     "output_type": "execute_result"
    }
   ],
   "source": [
    "df2.isnull()"
   ]
  },
  {
   "cell_type": "code",
   "execution_count": 49,
   "id": "d418c958",
   "metadata": {},
   "outputs": [
    {
     "data": {
      "text/html": [
       "<div>\n",
       "<style scoped>\n",
       "    .dataframe tbody tr th:only-of-type {\n",
       "        vertical-align: middle;\n",
       "    }\n",
       "\n",
       "    .dataframe tbody tr th {\n",
       "        vertical-align: top;\n",
       "    }\n",
       "\n",
       "    .dataframe thead th {\n",
       "        text-align: right;\n",
       "    }\n",
       "</style>\n",
       "<table border=\"1\" class=\"dataframe\">\n",
       "  <thead>\n",
       "    <tr style=\"text-align: right;\">\n",
       "      <th></th>\n",
       "      <th>A</th>\n",
       "      <th>B</th>\n",
       "      <th>C</th>\n",
       "      <th>D</th>\n",
       "      <th>E</th>\n",
       "    </tr>\n",
       "  </thead>\n",
       "  <tbody>\n",
       "    <tr>\n",
       "      <th>2020-03-01</th>\n",
       "      <td>0.872872</td>\n",
       "      <td>1.253400</td>\n",
       "      <td>-1.218601</td>\n",
       "      <td>0.741634</td>\n",
       "      <td>1.0</td>\n",
       "    </tr>\n",
       "    <tr>\n",
       "      <th>2020-03-02</th>\n",
       "      <td>-0.892890</td>\n",
       "      <td>-0.412049</td>\n",
       "      <td>-0.577314</td>\n",
       "      <td>-0.648060</td>\n",
       "      <td>1.0</td>\n",
       "    </tr>\n",
       "  </tbody>\n",
       "</table>\n",
       "</div>"
      ],
      "text/plain": [
       "                   A         B         C         D    E\n",
       "2020-03-01  0.872872  1.253400 -1.218601  0.741634  1.0\n",
       "2020-03-02 -0.892890 -0.412049 -0.577314 -0.648060  1.0"
      ]
     },
     "execution_count": 49,
     "metadata": {},
     "output_type": "execute_result"
    }
   ],
   "source": [
    "df2.dropna()"
   ]
  },
  {
   "cell_type": "code",
   "execution_count": 54,
   "id": "1af7f08f",
   "metadata": {},
   "outputs": [
    {
     "data": {
      "text/html": [
       "<div>\n",
       "<style scoped>\n",
       "    .dataframe tbody tr th:only-of-type {\n",
       "        vertical-align: middle;\n",
       "    }\n",
       "\n",
       "    .dataframe tbody tr th {\n",
       "        vertical-align: top;\n",
       "    }\n",
       "\n",
       "    .dataframe thead th {\n",
       "        text-align: right;\n",
       "    }\n",
       "</style>\n",
       "<table border=\"1\" class=\"dataframe\">\n",
       "  <thead>\n",
       "    <tr style=\"text-align: right;\">\n",
       "      <th></th>\n",
       "      <th>A</th>\n",
       "      <th>B</th>\n",
       "      <th>C</th>\n",
       "      <th>D</th>\n",
       "      <th>E</th>\n",
       "    </tr>\n",
       "  </thead>\n",
       "  <tbody>\n",
       "    <tr>\n",
       "      <th>2020-03-01</th>\n",
       "      <td>0.872872</td>\n",
       "      <td>1.253400</td>\n",
       "      <td>-1.218601</td>\n",
       "      <td>0.741634</td>\n",
       "      <td>1.0</td>\n",
       "    </tr>\n",
       "    <tr>\n",
       "      <th>2020-03-02</th>\n",
       "      <td>-0.892890</td>\n",
       "      <td>-0.412049</td>\n",
       "      <td>-0.577314</td>\n",
       "      <td>-0.648060</td>\n",
       "      <td>1.0</td>\n",
       "    </tr>\n",
       "    <tr>\n",
       "      <th>2020-03-03</th>\n",
       "      <td>-0.238595</td>\n",
       "      <td>1.441907</td>\n",
       "      <td>-0.392793</td>\n",
       "      <td>0.950662</td>\n",
       "      <td>2.0</td>\n",
       "    </tr>\n",
       "    <tr>\n",
       "      <th>2020-03-04</th>\n",
       "      <td>-0.617084</td>\n",
       "      <td>-0.667030</td>\n",
       "      <td>1.463105</td>\n",
       "      <td>0.737294</td>\n",
       "      <td>2.0</td>\n",
       "    </tr>\n",
       "  </tbody>\n",
       "</table>\n",
       "</div>"
      ],
      "text/plain": [
       "                   A         B         C         D    E\n",
       "2020-03-01  0.872872  1.253400 -1.218601  0.741634  1.0\n",
       "2020-03-02 -0.892890 -0.412049 -0.577314 -0.648060  1.0\n",
       "2020-03-03 -0.238595  1.441907 -0.392793  0.950662  2.0\n",
       "2020-03-04 -0.617084 -0.667030  1.463105  0.737294  2.0"
      ]
     },
     "execution_count": 54,
     "metadata": {},
     "output_type": "execute_result"
    }
   ],
   "source": [
    "df2.fillna(value=2)"
   ]
  },
  {
   "cell_type": "code",
   "execution_count": 55,
   "id": "b48a0e48",
   "metadata": {},
   "outputs": [
    {
     "data": {
      "text/html": [
       "<div>\n",
       "<style scoped>\n",
       "    .dataframe tbody tr th:only-of-type {\n",
       "        vertical-align: middle;\n",
       "    }\n",
       "\n",
       "    .dataframe tbody tr th {\n",
       "        vertical-align: top;\n",
       "    }\n",
       "\n",
       "    .dataframe thead th {\n",
       "        text-align: right;\n",
       "    }\n",
       "</style>\n",
       "<table border=\"1\" class=\"dataframe\">\n",
       "  <thead>\n",
       "    <tr style=\"text-align: right;\">\n",
       "      <th></th>\n",
       "      <th>A</th>\n",
       "      <th>B</th>\n",
       "      <th>C</th>\n",
       "      <th>D</th>\n",
       "      <th>E</th>\n",
       "    </tr>\n",
       "  </thead>\n",
       "  <tbody>\n",
       "    <tr>\n",
       "      <th>2020-03-01</th>\n",
       "      <td>False</td>\n",
       "      <td>False</td>\n",
       "      <td>False</td>\n",
       "      <td>False</td>\n",
       "      <td>False</td>\n",
       "    </tr>\n",
       "    <tr>\n",
       "      <th>2020-03-02</th>\n",
       "      <td>False</td>\n",
       "      <td>False</td>\n",
       "      <td>False</td>\n",
       "      <td>False</td>\n",
       "      <td>False</td>\n",
       "    </tr>\n",
       "    <tr>\n",
       "      <th>2020-03-03</th>\n",
       "      <td>False</td>\n",
       "      <td>False</td>\n",
       "      <td>False</td>\n",
       "      <td>False</td>\n",
       "      <td>True</td>\n",
       "    </tr>\n",
       "    <tr>\n",
       "      <th>2020-03-04</th>\n",
       "      <td>False</td>\n",
       "      <td>False</td>\n",
       "      <td>False</td>\n",
       "      <td>False</td>\n",
       "      <td>True</td>\n",
       "    </tr>\n",
       "  </tbody>\n",
       "</table>\n",
       "</div>"
      ],
      "text/plain": [
       "                A      B      C      D      E\n",
       "2020-03-01  False  False  False  False  False\n",
       "2020-03-02  False  False  False  False  False\n",
       "2020-03-03  False  False  False  False   True\n",
       "2020-03-04  False  False  False  False   True"
      ]
     },
     "execution_count": 55,
     "metadata": {},
     "output_type": "execute_result"
    }
   ],
   "source": [
    "pd.isna(df2)"
   ]
  },
  {
   "cell_type": "code",
   "execution_count": 56,
   "id": "f44bc9ad",
   "metadata": {},
   "outputs": [
    {
     "data": {
      "text/plain": [
       "A   -0.090327\n",
       "B    0.028358\n",
       "C   -0.232843\n",
       "D    0.415693\n",
       "dtype: float64"
      ]
     },
     "execution_count": 56,
     "metadata": {},
     "output_type": "execute_result"
    }
   ],
   "source": [
    "df.mean()"
   ]
  },
  {
   "cell_type": "code",
   "execution_count": 57,
   "id": "bef662d1",
   "metadata": {},
   "outputs": [
    {
     "data": {
      "text/plain": [
       "2020-03-01    0.412326\n",
       "2020-03-02   -0.632578\n",
       "2020-03-03    0.440295\n",
       "2020-03-04    0.229072\n",
       "2020-03-05    0.308301\n",
       "2020-03-06   -0.070114\n",
       "2020-03-07    0.203282\n",
       "2020-03-08   -0.136186\n",
       "2020-03-09   -0.481580\n",
       "2020-03-10    0.029384\n",
       "Freq: D, dtype: float64"
      ]
     },
     "execution_count": 57,
     "metadata": {},
     "output_type": "execute_result"
    }
   ],
   "source": [
    "df.mean(1)"
   ]
  },
  {
   "cell_type": "code",
   "execution_count": 60,
   "id": "748a436b",
   "metadata": {},
   "outputs": [],
   "source": [
    "s = pd.Series([1,2,3,np.nan,4,5,6,7,8,9], index=d)"
   ]
  },
  {
   "cell_type": "code",
   "execution_count": 61,
   "id": "024f4088",
   "metadata": {},
   "outputs": [
    {
     "data": {
      "text/plain": [
       "2020-03-01    1.0\n",
       "2020-03-02    2.0\n",
       "2020-03-03    3.0\n",
       "2020-03-04    NaN\n",
       "2020-03-05    4.0\n",
       "2020-03-06    5.0\n",
       "2020-03-07    6.0\n",
       "2020-03-08    7.0\n",
       "2020-03-09    8.0\n",
       "2020-03-10    9.0\n",
       "Freq: D, dtype: float64"
      ]
     },
     "execution_count": 61,
     "metadata": {},
     "output_type": "execute_result"
    }
   ],
   "source": [
    "s"
   ]
  },
  {
   "cell_type": "code",
   "execution_count": 62,
   "id": "3fc9f823",
   "metadata": {},
   "outputs": [
    {
     "data": {
      "text/html": [
       "<div>\n",
       "<style scoped>\n",
       "    .dataframe tbody tr th:only-of-type {\n",
       "        vertical-align: middle;\n",
       "    }\n",
       "\n",
       "    .dataframe tbody tr th {\n",
       "        vertical-align: top;\n",
       "    }\n",
       "\n",
       "    .dataframe thead th {\n",
       "        text-align: right;\n",
       "    }\n",
       "</style>\n",
       "<table border=\"1\" class=\"dataframe\">\n",
       "  <thead>\n",
       "    <tr style=\"text-align: right;\">\n",
       "      <th></th>\n",
       "      <th>A</th>\n",
       "      <th>B</th>\n",
       "      <th>C</th>\n",
       "      <th>D</th>\n",
       "    </tr>\n",
       "  </thead>\n",
       "  <tbody>\n",
       "    <tr>\n",
       "      <th>2020-03-01</th>\n",
       "      <td>-0.127128</td>\n",
       "      <td>0.253400</td>\n",
       "      <td>-2.218601</td>\n",
       "      <td>-0.258366</td>\n",
       "    </tr>\n",
       "    <tr>\n",
       "      <th>2020-03-02</th>\n",
       "      <td>-2.892890</td>\n",
       "      <td>-2.412049</td>\n",
       "      <td>-2.577314</td>\n",
       "      <td>-2.648060</td>\n",
       "    </tr>\n",
       "    <tr>\n",
       "      <th>2020-03-03</th>\n",
       "      <td>-3.238595</td>\n",
       "      <td>-1.558093</td>\n",
       "      <td>-3.392793</td>\n",
       "      <td>-2.049338</td>\n",
       "    </tr>\n",
       "    <tr>\n",
       "      <th>2020-03-04</th>\n",
       "      <td>NaN</td>\n",
       "      <td>NaN</td>\n",
       "      <td>NaN</td>\n",
       "      <td>NaN</td>\n",
       "    </tr>\n",
       "    <tr>\n",
       "      <th>2020-03-05</th>\n",
       "      <td>-3.329023</td>\n",
       "      <td>-2.997979</td>\n",
       "      <td>-4.196128</td>\n",
       "      <td>-4.243665</td>\n",
       "    </tr>\n",
       "    <tr>\n",
       "      <th>2020-03-06</th>\n",
       "      <td>-4.640552</td>\n",
       "      <td>-4.070381</td>\n",
       "      <td>-6.563963</td>\n",
       "      <td>-5.005561</td>\n",
       "    </tr>\n",
       "    <tr>\n",
       "      <th>2020-03-07</th>\n",
       "      <td>-7.234425</td>\n",
       "      <td>-6.201504</td>\n",
       "      <td>-4.662858</td>\n",
       "      <td>-5.088083</td>\n",
       "    </tr>\n",
       "    <tr>\n",
       "      <th>2020-03-08</th>\n",
       "      <td>-6.369359</td>\n",
       "      <td>-7.984252</td>\n",
       "      <td>-7.014250</td>\n",
       "      <td>-7.176882</td>\n",
       "    </tr>\n",
       "    <tr>\n",
       "      <th>2020-03-09</th>\n",
       "      <td>-8.840895</td>\n",
       "      <td>-8.981196</td>\n",
       "      <td>-7.895400</td>\n",
       "      <td>-8.208831</td>\n",
       "    </tr>\n",
       "    <tr>\n",
       "      <th>2020-03-10</th>\n",
       "      <td>-8.613323</td>\n",
       "      <td>-10.097337</td>\n",
       "      <td>-10.270229</td>\n",
       "      <td>-6.901575</td>\n",
       "    </tr>\n",
       "  </tbody>\n",
       "</table>\n",
       "</div>"
      ],
      "text/plain": [
       "                   A          B          C         D\n",
       "2020-03-01 -0.127128   0.253400  -2.218601 -0.258366\n",
       "2020-03-02 -2.892890  -2.412049  -2.577314 -2.648060\n",
       "2020-03-03 -3.238595  -1.558093  -3.392793 -2.049338\n",
       "2020-03-04       NaN        NaN        NaN       NaN\n",
       "2020-03-05 -3.329023  -2.997979  -4.196128 -4.243665\n",
       "2020-03-06 -4.640552  -4.070381  -6.563963 -5.005561\n",
       "2020-03-07 -7.234425  -6.201504  -4.662858 -5.088083\n",
       "2020-03-08 -6.369359  -7.984252  -7.014250 -7.176882\n",
       "2020-03-09 -8.840895  -8.981196  -7.895400 -8.208831\n",
       "2020-03-10 -8.613323 -10.097337 -10.270229 -6.901575"
      ]
     },
     "execution_count": 62,
     "metadata": {},
     "output_type": "execute_result"
    }
   ],
   "source": [
    "df.sub(s,axis='index')"
   ]
  },
  {
   "cell_type": "code",
   "execution_count": 68,
   "id": "0feb8e33",
   "metadata": {},
   "outputs": [
    {
     "data": {
      "text/html": [
       "<div>\n",
       "<style scoped>\n",
       "    .dataframe tbody tr th:only-of-type {\n",
       "        vertical-align: middle;\n",
       "    }\n",
       "\n",
       "    .dataframe tbody tr th {\n",
       "        vertical-align: top;\n",
       "    }\n",
       "\n",
       "    .dataframe thead th {\n",
       "        text-align: right;\n",
       "    }\n",
       "</style>\n",
       "<table border=\"1\" class=\"dataframe\">\n",
       "  <thead>\n",
       "    <tr style=\"text-align: right;\">\n",
       "      <th></th>\n",
       "      <th>A</th>\n",
       "      <th>B</th>\n",
       "      <th>C</th>\n",
       "      <th>D</th>\n",
       "    </tr>\n",
       "  </thead>\n",
       "  <tbody>\n",
       "    <tr>\n",
       "      <th>2020-03-01</th>\n",
       "      <td>-0.127128</td>\n",
       "      <td>0.253400</td>\n",
       "      <td>-2.218601</td>\n",
       "      <td>-0.258366</td>\n",
       "    </tr>\n",
       "    <tr>\n",
       "      <th>2020-03-02</th>\n",
       "      <td>-2.892890</td>\n",
       "      <td>-2.412049</td>\n",
       "      <td>-2.577314</td>\n",
       "      <td>-2.648060</td>\n",
       "    </tr>\n",
       "    <tr>\n",
       "      <th>2020-03-03</th>\n",
       "      <td>-3.238595</td>\n",
       "      <td>-1.558093</td>\n",
       "      <td>-3.392793</td>\n",
       "      <td>-2.049338</td>\n",
       "    </tr>\n",
       "    <tr>\n",
       "      <th>2020-03-04</th>\n",
       "      <td>NaN</td>\n",
       "      <td>NaN</td>\n",
       "      <td>NaN</td>\n",
       "      <td>NaN</td>\n",
       "    </tr>\n",
       "    <tr>\n",
       "      <th>2020-03-05</th>\n",
       "      <td>-3.329023</td>\n",
       "      <td>-2.997979</td>\n",
       "      <td>-4.196128</td>\n",
       "      <td>-4.243665</td>\n",
       "    </tr>\n",
       "    <tr>\n",
       "      <th>2020-03-06</th>\n",
       "      <td>-4.640552</td>\n",
       "      <td>-4.070381</td>\n",
       "      <td>-6.563963</td>\n",
       "      <td>-5.005561</td>\n",
       "    </tr>\n",
       "    <tr>\n",
       "      <th>2020-03-07</th>\n",
       "      <td>-7.234425</td>\n",
       "      <td>-6.201504</td>\n",
       "      <td>-4.662858</td>\n",
       "      <td>-5.088083</td>\n",
       "    </tr>\n",
       "    <tr>\n",
       "      <th>2020-03-08</th>\n",
       "      <td>-6.369359</td>\n",
       "      <td>-7.984252</td>\n",
       "      <td>-7.014250</td>\n",
       "      <td>-7.176882</td>\n",
       "    </tr>\n",
       "    <tr>\n",
       "      <th>2020-03-09</th>\n",
       "      <td>-8.840895</td>\n",
       "      <td>-8.981196</td>\n",
       "      <td>-7.895400</td>\n",
       "      <td>-8.208831</td>\n",
       "    </tr>\n",
       "    <tr>\n",
       "      <th>2020-03-10</th>\n",
       "      <td>-8.613323</td>\n",
       "      <td>-10.097337</td>\n",
       "      <td>-10.270229</td>\n",
       "      <td>-6.901575</td>\n",
       "    </tr>\n",
       "  </tbody>\n",
       "</table>\n",
       "</div>"
      ],
      "text/plain": [
       "                   A          B          C         D\n",
       "2020-03-01 -0.127128   0.253400  -2.218601 -0.258366\n",
       "2020-03-02 -2.892890  -2.412049  -2.577314 -2.648060\n",
       "2020-03-03 -3.238595  -1.558093  -3.392793 -2.049338\n",
       "2020-03-04       NaN        NaN        NaN       NaN\n",
       "2020-03-05 -3.329023  -2.997979  -4.196128 -4.243665\n",
       "2020-03-06 -4.640552  -4.070381  -6.563963 -5.005561\n",
       "2020-03-07 -7.234425  -6.201504  -4.662858 -5.088083\n",
       "2020-03-08 -6.369359  -7.984252  -7.014250 -7.176882\n",
       "2020-03-09 -8.840895  -8.981196  -7.895400 -8.208831\n",
       "2020-03-10 -8.613323 -10.097337 -10.270229 -6.901575"
      ]
     },
     "execution_count": 68,
     "metadata": {},
     "output_type": "execute_result"
    }
   ],
   "source": [
    "df.sub(s,axis=0)"
   ]
  },
  {
   "cell_type": "code",
   "execution_count": 69,
   "id": "d2e60d22",
   "metadata": {},
   "outputs": [
    {
     "data": {
      "text/html": [
       "<div>\n",
       "<style scoped>\n",
       "    .dataframe tbody tr th:only-of-type {\n",
       "        vertical-align: middle;\n",
       "    }\n",
       "\n",
       "    .dataframe tbody tr th {\n",
       "        vertical-align: top;\n",
       "    }\n",
       "\n",
       "    .dataframe thead th {\n",
       "        text-align: right;\n",
       "    }\n",
       "</style>\n",
       "<table border=\"1\" class=\"dataframe\">\n",
       "  <thead>\n",
       "    <tr style=\"text-align: right;\">\n",
       "      <th></th>\n",
       "      <th>A</th>\n",
       "      <th>B</th>\n",
       "      <th>C</th>\n",
       "      <th>D</th>\n",
       "    </tr>\n",
       "  </thead>\n",
       "  <tbody>\n",
       "    <tr>\n",
       "      <th>2020-03-01</th>\n",
       "      <td>0.872872</td>\n",
       "      <td>1.253400</td>\n",
       "      <td>1.218601</td>\n",
       "      <td>0.741634</td>\n",
       "    </tr>\n",
       "    <tr>\n",
       "      <th>2020-03-02</th>\n",
       "      <td>0.892890</td>\n",
       "      <td>0.412049</td>\n",
       "      <td>0.577314</td>\n",
       "      <td>0.648060</td>\n",
       "    </tr>\n",
       "    <tr>\n",
       "      <th>2020-03-03</th>\n",
       "      <td>0.238595</td>\n",
       "      <td>1.441907</td>\n",
       "      <td>0.392793</td>\n",
       "      <td>0.950662</td>\n",
       "    </tr>\n",
       "    <tr>\n",
       "      <th>2020-03-04</th>\n",
       "      <td>0.617084</td>\n",
       "      <td>0.667030</td>\n",
       "      <td>1.463105</td>\n",
       "      <td>0.737294</td>\n",
       "    </tr>\n",
       "    <tr>\n",
       "      <th>2020-03-05</th>\n",
       "      <td>0.670977</td>\n",
       "      <td>1.002021</td>\n",
       "      <td>0.196128</td>\n",
       "      <td>0.243665</td>\n",
       "    </tr>\n",
       "    <tr>\n",
       "      <th>2020-03-06</th>\n",
       "      <td>0.359448</td>\n",
       "      <td>0.929619</td>\n",
       "      <td>1.563963</td>\n",
       "      <td>0.005561</td>\n",
       "    </tr>\n",
       "    <tr>\n",
       "      <th>2020-03-07</th>\n",
       "      <td>1.234425</td>\n",
       "      <td>0.201504</td>\n",
       "      <td>1.337142</td>\n",
       "      <td>0.911917</td>\n",
       "    </tr>\n",
       "    <tr>\n",
       "      <th>2020-03-08</th>\n",
       "      <td>0.630641</td>\n",
       "      <td>0.984252</td>\n",
       "      <td>0.014250</td>\n",
       "      <td>0.176882</td>\n",
       "    </tr>\n",
       "    <tr>\n",
       "      <th>2020-03-09</th>\n",
       "      <td>0.840895</td>\n",
       "      <td>0.981196</td>\n",
       "      <td>0.104600</td>\n",
       "      <td>0.208831</td>\n",
       "    </tr>\n",
       "    <tr>\n",
       "      <th>2020-03-10</th>\n",
       "      <td>0.386677</td>\n",
       "      <td>1.097337</td>\n",
       "      <td>1.270229</td>\n",
       "      <td>2.098425</td>\n",
       "    </tr>\n",
       "  </tbody>\n",
       "</table>\n",
       "</div>"
      ],
      "text/plain": [
       "                   A         B         C         D\n",
       "2020-03-01  0.872872  1.253400  1.218601  0.741634\n",
       "2020-03-02  0.892890  0.412049  0.577314  0.648060\n",
       "2020-03-03  0.238595  1.441907  0.392793  0.950662\n",
       "2020-03-04  0.617084  0.667030  1.463105  0.737294\n",
       "2020-03-05  0.670977  1.002021  0.196128  0.243665\n",
       "2020-03-06  0.359448  0.929619  1.563963  0.005561\n",
       "2020-03-07  1.234425  0.201504  1.337142  0.911917\n",
       "2020-03-08  0.630641  0.984252  0.014250  0.176882\n",
       "2020-03-09  0.840895  0.981196  0.104600  0.208831\n",
       "2020-03-10  0.386677  1.097337  1.270229  2.098425"
      ]
     },
     "execution_count": 69,
     "metadata": {},
     "output_type": "execute_result"
    }
   ],
   "source": [
    "df.apply(np.abs)\n",
    "# this provides a way to apply various functions on data frame"
   ]
  },
  {
   "cell_type": "code",
   "execution_count": 70,
   "id": "82951d7f",
   "metadata": {},
   "outputs": [
    {
     "data": {
      "text/plain": [
       "A    2.107297\n",
       "B    2.539244\n",
       "C    3.027069\n",
       "D    2.746485\n",
       "dtype: float64"
      ]
     },
     "execution_count": 70,
     "metadata": {},
     "output_type": "execute_result"
    }
   ],
   "source": [
    "df.apply(lambda x: x.max() - x.min())"
   ]
  },
  {
   "cell_type": "code",
   "execution_count": 73,
   "id": "90c65d00",
   "metadata": {},
   "outputs": [
    {
     "data": {
      "text/plain": [
       "1.0    1\n",
       "2.0    1\n",
       "3.0    1\n",
       "4.0    1\n",
       "5.0    1\n",
       "6.0    1\n",
       "7.0    1\n",
       "8.0    1\n",
       "9.0    1\n",
       "dtype: int64"
      ]
     },
     "execution_count": 73,
     "metadata": {},
     "output_type": "execute_result"
    }
   ],
   "source": [
    "s.value_counts()"
   ]
  },
  {
   "cell_type": "code",
   "execution_count": 74,
   "id": "c5280e39",
   "metadata": {},
   "outputs": [],
   "source": [
    "s = pd.Series(['edureka', 'python', 'jupyter', np.nan, 'football', 'world'])"
   ]
  },
  {
   "cell_type": "code",
   "execution_count": 75,
   "id": "ad88f668",
   "metadata": {},
   "outputs": [
    {
     "data": {
      "text/plain": [
       "0     EDUREKA\n",
       "1      PYTHON\n",
       "2     JUPYTER\n",
       "3         NaN\n",
       "4    FOOTBALL\n",
       "5       WORLD\n",
       "dtype: object"
      ]
     },
     "execution_count": 75,
     "metadata": {},
     "output_type": "execute_result"
    }
   ],
   "source": [
    "s.str.upper()"
   ]
  },
  {
   "cell_type": "code",
   "execution_count": 77,
   "id": "974cafd1",
   "metadata": {},
   "outputs": [],
   "source": [
    "df = pd.DataFrame(np.random.randn(10,4))"
   ]
  },
  {
   "cell_type": "code",
   "execution_count": 78,
   "id": "bfe22a67",
   "metadata": {},
   "outputs": [
    {
     "data": {
      "text/html": [
       "<div>\n",
       "<style scoped>\n",
       "    .dataframe tbody tr th:only-of-type {\n",
       "        vertical-align: middle;\n",
       "    }\n",
       "\n",
       "    .dataframe tbody tr th {\n",
       "        vertical-align: top;\n",
       "    }\n",
       "\n",
       "    .dataframe thead th {\n",
       "        text-align: right;\n",
       "    }\n",
       "</style>\n",
       "<table border=\"1\" class=\"dataframe\">\n",
       "  <thead>\n",
       "    <tr style=\"text-align: right;\">\n",
       "      <th></th>\n",
       "      <th>0</th>\n",
       "      <th>1</th>\n",
       "      <th>2</th>\n",
       "      <th>3</th>\n",
       "    </tr>\n",
       "  </thead>\n",
       "  <tbody>\n",
       "    <tr>\n",
       "      <th>0</th>\n",
       "      <td>0.685204</td>\n",
       "      <td>-0.297980</td>\n",
       "      <td>-0.020062</td>\n",
       "      <td>-1.505469</td>\n",
       "    </tr>\n",
       "    <tr>\n",
       "      <th>1</th>\n",
       "      <td>0.884192</td>\n",
       "      <td>0.378528</td>\n",
       "      <td>1.307662</td>\n",
       "      <td>0.853338</td>\n",
       "    </tr>\n",
       "    <tr>\n",
       "      <th>2</th>\n",
       "      <td>-2.089288</td>\n",
       "      <td>-0.733178</td>\n",
       "      <td>0.293876</td>\n",
       "      <td>-0.185747</td>\n",
       "    </tr>\n",
       "    <tr>\n",
       "      <th>3</th>\n",
       "      <td>0.055915</td>\n",
       "      <td>-0.036197</td>\n",
       "      <td>1.058554</td>\n",
       "      <td>0.674188</td>\n",
       "    </tr>\n",
       "    <tr>\n",
       "      <th>4</th>\n",
       "      <td>1.419271</td>\n",
       "      <td>0.476354</td>\n",
       "      <td>-0.682681</td>\n",
       "      <td>-1.600337</td>\n",
       "    </tr>\n",
       "    <tr>\n",
       "      <th>5</th>\n",
       "      <td>0.401118</td>\n",
       "      <td>2.084402</td>\n",
       "      <td>0.523982</td>\n",
       "      <td>0.532413</td>\n",
       "    </tr>\n",
       "    <tr>\n",
       "      <th>6</th>\n",
       "      <td>2.033780</td>\n",
       "      <td>0.856272</td>\n",
       "      <td>-1.013591</td>\n",
       "      <td>1.336739</td>\n",
       "    </tr>\n",
       "    <tr>\n",
       "      <th>7</th>\n",
       "      <td>0.523411</td>\n",
       "      <td>-0.197311</td>\n",
       "      <td>-0.735697</td>\n",
       "      <td>0.166370</td>\n",
       "    </tr>\n",
       "    <tr>\n",
       "      <th>8</th>\n",
       "      <td>-1.067555</td>\n",
       "      <td>-0.447581</td>\n",
       "      <td>-0.889895</td>\n",
       "      <td>-0.086363</td>\n",
       "    </tr>\n",
       "    <tr>\n",
       "      <th>9</th>\n",
       "      <td>-0.175316</td>\n",
       "      <td>-0.541926</td>\n",
       "      <td>-0.841081</td>\n",
       "      <td>-0.112588</td>\n",
       "    </tr>\n",
       "  </tbody>\n",
       "</table>\n",
       "</div>"
      ],
      "text/plain": [
       "          0         1         2         3\n",
       "0  0.685204 -0.297980 -0.020062 -1.505469\n",
       "1  0.884192  0.378528  1.307662  0.853338\n",
       "2 -2.089288 -0.733178  0.293876 -0.185747\n",
       "3  0.055915 -0.036197  1.058554  0.674188\n",
       "4  1.419271  0.476354 -0.682681 -1.600337\n",
       "5  0.401118  2.084402  0.523982  0.532413\n",
       "6  2.033780  0.856272 -1.013591  1.336739\n",
       "7  0.523411 -0.197311 -0.735697  0.166370\n",
       "8 -1.067555 -0.447581 -0.889895 -0.086363\n",
       "9 -0.175316 -0.541926 -0.841081 -0.112588"
      ]
     },
     "execution_count": 78,
     "metadata": {},
     "output_type": "execute_result"
    }
   ],
   "source": [
    "df"
   ]
  },
  {
   "cell_type": "code",
   "execution_count": 79,
   "id": "1de63add",
   "metadata": {},
   "outputs": [],
   "source": [
    "df2 = [df[:3], df[3:7], df[7:]]"
   ]
  },
  {
   "cell_type": "code",
   "execution_count": 80,
   "id": "2cdac46e",
   "metadata": {},
   "outputs": [
    {
     "data": {
      "text/plain": [
       "[          0         1         2         3\n",
       " 0  0.685204 -0.297980 -0.020062 -1.505469\n",
       " 1  0.884192  0.378528  1.307662  0.853338\n",
       " 2 -2.089288 -0.733178  0.293876 -0.185747,\n",
       "           0         1         2         3\n",
       " 3  0.055915 -0.036197  1.058554  0.674188\n",
       " 4  1.419271  0.476354 -0.682681 -1.600337\n",
       " 5  0.401118  2.084402  0.523982  0.532413\n",
       " 6  2.033780  0.856272 -1.013591  1.336739,\n",
       "           0         1         2         3\n",
       " 7  0.523411 -0.197311 -0.735697  0.166370\n",
       " 8 -1.067555 -0.447581 -0.889895 -0.086363\n",
       " 9 -0.175316 -0.541926 -0.841081 -0.112588]"
      ]
     },
     "execution_count": 80,
     "metadata": {},
     "output_type": "execute_result"
    }
   ],
   "source": [
    "df2"
   ]
  },
  {
   "cell_type": "code",
   "execution_count": 81,
   "id": "4cfc2736",
   "metadata": {},
   "outputs": [
    {
     "data": {
      "text/html": [
       "<div>\n",
       "<style scoped>\n",
       "    .dataframe tbody tr th:only-of-type {\n",
       "        vertical-align: middle;\n",
       "    }\n",
       "\n",
       "    .dataframe tbody tr th {\n",
       "        vertical-align: top;\n",
       "    }\n",
       "\n",
       "    .dataframe thead th {\n",
       "        text-align: right;\n",
       "    }\n",
       "</style>\n",
       "<table border=\"1\" class=\"dataframe\">\n",
       "  <thead>\n",
       "    <tr style=\"text-align: right;\">\n",
       "      <th></th>\n",
       "      <th>0</th>\n",
       "      <th>1</th>\n",
       "      <th>2</th>\n",
       "      <th>3</th>\n",
       "    </tr>\n",
       "  </thead>\n",
       "  <tbody>\n",
       "    <tr>\n",
       "      <th>0</th>\n",
       "      <td>0.685204</td>\n",
       "      <td>-0.297980</td>\n",
       "      <td>-0.020062</td>\n",
       "      <td>-1.505469</td>\n",
       "    </tr>\n",
       "    <tr>\n",
       "      <th>1</th>\n",
       "      <td>0.884192</td>\n",
       "      <td>0.378528</td>\n",
       "      <td>1.307662</td>\n",
       "      <td>0.853338</td>\n",
       "    </tr>\n",
       "    <tr>\n",
       "      <th>2</th>\n",
       "      <td>-2.089288</td>\n",
       "      <td>-0.733178</td>\n",
       "      <td>0.293876</td>\n",
       "      <td>-0.185747</td>\n",
       "    </tr>\n",
       "    <tr>\n",
       "      <th>3</th>\n",
       "      <td>0.055915</td>\n",
       "      <td>-0.036197</td>\n",
       "      <td>1.058554</td>\n",
       "      <td>0.674188</td>\n",
       "    </tr>\n",
       "    <tr>\n",
       "      <th>4</th>\n",
       "      <td>1.419271</td>\n",
       "      <td>0.476354</td>\n",
       "      <td>-0.682681</td>\n",
       "      <td>-1.600337</td>\n",
       "    </tr>\n",
       "    <tr>\n",
       "      <th>5</th>\n",
       "      <td>0.401118</td>\n",
       "      <td>2.084402</td>\n",
       "      <td>0.523982</td>\n",
       "      <td>0.532413</td>\n",
       "    </tr>\n",
       "    <tr>\n",
       "      <th>6</th>\n",
       "      <td>2.033780</td>\n",
       "      <td>0.856272</td>\n",
       "      <td>-1.013591</td>\n",
       "      <td>1.336739</td>\n",
       "    </tr>\n",
       "    <tr>\n",
       "      <th>7</th>\n",
       "      <td>0.523411</td>\n",
       "      <td>-0.197311</td>\n",
       "      <td>-0.735697</td>\n",
       "      <td>0.166370</td>\n",
       "    </tr>\n",
       "    <tr>\n",
       "      <th>8</th>\n",
       "      <td>-1.067555</td>\n",
       "      <td>-0.447581</td>\n",
       "      <td>-0.889895</td>\n",
       "      <td>-0.086363</td>\n",
       "    </tr>\n",
       "    <tr>\n",
       "      <th>9</th>\n",
       "      <td>-0.175316</td>\n",
       "      <td>-0.541926</td>\n",
       "      <td>-0.841081</td>\n",
       "      <td>-0.112588</td>\n",
       "    </tr>\n",
       "  </tbody>\n",
       "</table>\n",
       "</div>"
      ],
      "text/plain": [
       "          0         1         2         3\n",
       "0  0.685204 -0.297980 -0.020062 -1.505469\n",
       "1  0.884192  0.378528  1.307662  0.853338\n",
       "2 -2.089288 -0.733178  0.293876 -0.185747\n",
       "3  0.055915 -0.036197  1.058554  0.674188\n",
       "4  1.419271  0.476354 -0.682681 -1.600337\n",
       "5  0.401118  2.084402  0.523982  0.532413\n",
       "6  2.033780  0.856272 -1.013591  1.336739\n",
       "7  0.523411 -0.197311 -0.735697  0.166370\n",
       "8 -1.067555 -0.447581 -0.889895 -0.086363\n",
       "9 -0.175316 -0.541926 -0.841081 -0.112588"
      ]
     },
     "execution_count": 81,
     "metadata": {},
     "output_type": "execute_result"
    }
   ],
   "source": [
    "pd.concat(df2)"
   ]
  },
  {
   "cell_type": "code",
   "execution_count": 82,
   "id": "35817f4c",
   "metadata": {},
   "outputs": [],
   "source": [
    "left = pd.DataFrame({'A': [1,2], 'B': [3,4]})"
   ]
  },
  {
   "cell_type": "code",
   "execution_count": 86,
   "id": "ceaf7d0b",
   "metadata": {},
   "outputs": [],
   "source": [
    "right = pd.DataFrame({'A': [3,2], 'D': [4,5]})"
   ]
  },
  {
   "cell_type": "code",
   "execution_count": 84,
   "id": "8e7640af",
   "metadata": {},
   "outputs": [
    {
     "data": {
      "text/html": [
       "<div>\n",
       "<style scoped>\n",
       "    .dataframe tbody tr th:only-of-type {\n",
       "        vertical-align: middle;\n",
       "    }\n",
       "\n",
       "    .dataframe tbody tr th {\n",
       "        vertical-align: top;\n",
       "    }\n",
       "\n",
       "    .dataframe thead th {\n",
       "        text-align: right;\n",
       "    }\n",
       "</style>\n",
       "<table border=\"1\" class=\"dataframe\">\n",
       "  <thead>\n",
       "    <tr style=\"text-align: right;\">\n",
       "      <th></th>\n",
       "      <th>A</th>\n",
       "      <th>B</th>\n",
       "    </tr>\n",
       "  </thead>\n",
       "  <tbody>\n",
       "    <tr>\n",
       "      <th>0</th>\n",
       "      <td>1</td>\n",
       "      <td>3</td>\n",
       "    </tr>\n",
       "    <tr>\n",
       "      <th>1</th>\n",
       "      <td>2</td>\n",
       "      <td>4</td>\n",
       "    </tr>\n",
       "  </tbody>\n",
       "</table>\n",
       "</div>"
      ],
      "text/plain": [
       "   A  B\n",
       "0  1  3\n",
       "1  2  4"
      ]
     },
     "execution_count": 84,
     "metadata": {},
     "output_type": "execute_result"
    }
   ],
   "source": [
    "left"
   ]
  },
  {
   "cell_type": "code",
   "execution_count": 87,
   "id": "414726a6",
   "metadata": {},
   "outputs": [
    {
     "data": {
      "text/html": [
       "<div>\n",
       "<style scoped>\n",
       "    .dataframe tbody tr th:only-of-type {\n",
       "        vertical-align: middle;\n",
       "    }\n",
       "\n",
       "    .dataframe tbody tr th {\n",
       "        vertical-align: top;\n",
       "    }\n",
       "\n",
       "    .dataframe thead th {\n",
       "        text-align: right;\n",
       "    }\n",
       "</style>\n",
       "<table border=\"1\" class=\"dataframe\">\n",
       "  <thead>\n",
       "    <tr style=\"text-align: right;\">\n",
       "      <th></th>\n",
       "      <th>A</th>\n",
       "      <th>D</th>\n",
       "    </tr>\n",
       "  </thead>\n",
       "  <tbody>\n",
       "    <tr>\n",
       "      <th>0</th>\n",
       "      <td>3</td>\n",
       "      <td>4</td>\n",
       "    </tr>\n",
       "    <tr>\n",
       "      <th>1</th>\n",
       "      <td>2</td>\n",
       "      <td>5</td>\n",
       "    </tr>\n",
       "  </tbody>\n",
       "</table>\n",
       "</div>"
      ],
      "text/plain": [
       "   A  D\n",
       "0  3  4\n",
       "1  2  5"
      ]
     },
     "execution_count": 87,
     "metadata": {},
     "output_type": "execute_result"
    }
   ],
   "source": [
    "right"
   ]
  },
  {
   "cell_type": "code",
   "execution_count": 88,
   "id": "eb59754e",
   "metadata": {},
   "outputs": [
    {
     "data": {
      "text/html": [
       "<div>\n",
       "<style scoped>\n",
       "    .dataframe tbody tr th:only-of-type {\n",
       "        vertical-align: middle;\n",
       "    }\n",
       "\n",
       "    .dataframe tbody tr th {\n",
       "        vertical-align: top;\n",
       "    }\n",
       "\n",
       "    .dataframe thead th {\n",
       "        text-align: right;\n",
       "    }\n",
       "</style>\n",
       "<table border=\"1\" class=\"dataframe\">\n",
       "  <thead>\n",
       "    <tr style=\"text-align: right;\">\n",
       "      <th></th>\n",
       "      <th>A</th>\n",
       "      <th>B</th>\n",
       "      <th>D</th>\n",
       "    </tr>\n",
       "  </thead>\n",
       "  <tbody>\n",
       "    <tr>\n",
       "      <th>0</th>\n",
       "      <td>2</td>\n",
       "      <td>4</td>\n",
       "      <td>5</td>\n",
       "    </tr>\n",
       "  </tbody>\n",
       "</table>\n",
       "</div>"
      ],
      "text/plain": [
       "   A  B  D\n",
       "0  2  4  5"
      ]
     },
     "execution_count": 88,
     "metadata": {},
     "output_type": "execute_result"
    }
   ],
   "source": [
    "pd.merge(left,right,on='A')"
   ]
  },
  {
   "cell_type": "code",
   "execution_count": 89,
   "id": "7eaf7cce",
   "metadata": {},
   "outputs": [
    {
     "data": {
      "text/html": [
       "<div>\n",
       "<style scoped>\n",
       "    .dataframe tbody tr th:only-of-type {\n",
       "        vertical-align: middle;\n",
       "    }\n",
       "\n",
       "    .dataframe tbody tr th {\n",
       "        vertical-align: top;\n",
       "    }\n",
       "\n",
       "    .dataframe thead th {\n",
       "        text-align: right;\n",
       "    }\n",
       "</style>\n",
       "<table border=\"1\" class=\"dataframe\">\n",
       "  <thead>\n",
       "    <tr style=\"text-align: right;\">\n",
       "      <th></th>\n",
       "      <th>0</th>\n",
       "      <th>1</th>\n",
       "      <th>2</th>\n",
       "      <th>3</th>\n",
       "    </tr>\n",
       "  </thead>\n",
       "  <tbody>\n",
       "    <tr>\n",
       "      <th>0</th>\n",
       "      <td>0.685204</td>\n",
       "      <td>-0.297980</td>\n",
       "      <td>-0.020062</td>\n",
       "      <td>-1.505469</td>\n",
       "    </tr>\n",
       "    <tr>\n",
       "      <th>1</th>\n",
       "      <td>0.884192</td>\n",
       "      <td>0.378528</td>\n",
       "      <td>1.307662</td>\n",
       "      <td>0.853338</td>\n",
       "    </tr>\n",
       "    <tr>\n",
       "      <th>2</th>\n",
       "      <td>-2.089288</td>\n",
       "      <td>-0.733178</td>\n",
       "      <td>0.293876</td>\n",
       "      <td>-0.185747</td>\n",
       "    </tr>\n",
       "    <tr>\n",
       "      <th>3</th>\n",
       "      <td>0.055915</td>\n",
       "      <td>-0.036197</td>\n",
       "      <td>1.058554</td>\n",
       "      <td>0.674188</td>\n",
       "    </tr>\n",
       "    <tr>\n",
       "      <th>4</th>\n",
       "      <td>1.419271</td>\n",
       "      <td>0.476354</td>\n",
       "      <td>-0.682681</td>\n",
       "      <td>-1.600337</td>\n",
       "    </tr>\n",
       "    <tr>\n",
       "      <th>5</th>\n",
       "      <td>0.401118</td>\n",
       "      <td>2.084402</td>\n",
       "      <td>0.523982</td>\n",
       "      <td>0.532413</td>\n",
       "    </tr>\n",
       "    <tr>\n",
       "      <th>6</th>\n",
       "      <td>2.033780</td>\n",
       "      <td>0.856272</td>\n",
       "      <td>-1.013591</td>\n",
       "      <td>1.336739</td>\n",
       "    </tr>\n",
       "    <tr>\n",
       "      <th>7</th>\n",
       "      <td>0.523411</td>\n",
       "      <td>-0.197311</td>\n",
       "      <td>-0.735697</td>\n",
       "      <td>0.166370</td>\n",
       "    </tr>\n",
       "    <tr>\n",
       "      <th>8</th>\n",
       "      <td>-1.067555</td>\n",
       "      <td>-0.447581</td>\n",
       "      <td>-0.889895</td>\n",
       "      <td>-0.086363</td>\n",
       "    </tr>\n",
       "    <tr>\n",
       "      <th>9</th>\n",
       "      <td>-0.175316</td>\n",
       "      <td>-0.541926</td>\n",
       "      <td>-0.841081</td>\n",
       "      <td>-0.112588</td>\n",
       "    </tr>\n",
       "  </tbody>\n",
       "</table>\n",
       "</div>"
      ],
      "text/plain": [
       "          0         1         2         3\n",
       "0  0.685204 -0.297980 -0.020062 -1.505469\n",
       "1  0.884192  0.378528  1.307662  0.853338\n",
       "2 -2.089288 -0.733178  0.293876 -0.185747\n",
       "3  0.055915 -0.036197  1.058554  0.674188\n",
       "4  1.419271  0.476354 -0.682681 -1.600337\n",
       "5  0.401118  2.084402  0.523982  0.532413\n",
       "6  2.033780  0.856272 -1.013591  1.336739\n",
       "7  0.523411 -0.197311 -0.735697  0.166370\n",
       "8 -1.067555 -0.447581 -0.889895 -0.086363\n",
       "9 -0.175316 -0.541926 -0.841081 -0.112588"
      ]
     },
     "execution_count": 89,
     "metadata": {},
     "output_type": "execute_result"
    }
   ],
   "source": [
    "df"
   ]
  },
  {
   "cell_type": "code",
   "execution_count": 90,
   "id": "6e0bde46",
   "metadata": {
    "scrolled": true
   },
   "outputs": [
    {
     "data": {
      "text/html": [
       "<div>\n",
       "<style scoped>\n",
       "    .dataframe tbody tr th:only-of-type {\n",
       "        vertical-align: middle;\n",
       "    }\n",
       "\n",
       "    .dataframe tbody tr th {\n",
       "        vertical-align: top;\n",
       "    }\n",
       "\n",
       "    .dataframe thead th {\n",
       "        text-align: right;\n",
       "    }\n",
       "</style>\n",
       "<table border=\"1\" class=\"dataframe\">\n",
       "  <thead>\n",
       "    <tr style=\"text-align: right;\">\n",
       "      <th></th>\n",
       "      <th>0</th>\n",
       "      <th>1</th>\n",
       "      <th>3</th>\n",
       "    </tr>\n",
       "    <tr>\n",
       "      <th>2</th>\n",
       "      <th></th>\n",
       "      <th></th>\n",
       "      <th></th>\n",
       "    </tr>\n",
       "  </thead>\n",
       "  <tbody>\n",
       "    <tr>\n",
       "      <th>-1.013591</th>\n",
       "      <td>2.033780</td>\n",
       "      <td>0.856272</td>\n",
       "      <td>1.336739</td>\n",
       "    </tr>\n",
       "    <tr>\n",
       "      <th>-0.889895</th>\n",
       "      <td>-1.067555</td>\n",
       "      <td>-0.447581</td>\n",
       "      <td>-0.086363</td>\n",
       "    </tr>\n",
       "    <tr>\n",
       "      <th>-0.841081</th>\n",
       "      <td>-0.175316</td>\n",
       "      <td>-0.541926</td>\n",
       "      <td>-0.112588</td>\n",
       "    </tr>\n",
       "    <tr>\n",
       "      <th>-0.735697</th>\n",
       "      <td>0.523411</td>\n",
       "      <td>-0.197311</td>\n",
       "      <td>0.166370</td>\n",
       "    </tr>\n",
       "    <tr>\n",
       "      <th>-0.682681</th>\n",
       "      <td>1.419271</td>\n",
       "      <td>0.476354</td>\n",
       "      <td>-1.600337</td>\n",
       "    </tr>\n",
       "    <tr>\n",
       "      <th>-0.020062</th>\n",
       "      <td>0.685204</td>\n",
       "      <td>-0.297980</td>\n",
       "      <td>-1.505469</td>\n",
       "    </tr>\n",
       "    <tr>\n",
       "      <th>0.293876</th>\n",
       "      <td>-2.089288</td>\n",
       "      <td>-0.733178</td>\n",
       "      <td>-0.185747</td>\n",
       "    </tr>\n",
       "    <tr>\n",
       "      <th>0.523982</th>\n",
       "      <td>0.401118</td>\n",
       "      <td>2.084402</td>\n",
       "      <td>0.532413</td>\n",
       "    </tr>\n",
       "    <tr>\n",
       "      <th>1.058554</th>\n",
       "      <td>0.055915</td>\n",
       "      <td>-0.036197</td>\n",
       "      <td>0.674188</td>\n",
       "    </tr>\n",
       "    <tr>\n",
       "      <th>1.307662</th>\n",
       "      <td>0.884192</td>\n",
       "      <td>0.378528</td>\n",
       "      <td>0.853338</td>\n",
       "    </tr>\n",
       "  </tbody>\n",
       "</table>\n",
       "</div>"
      ],
      "text/plain": [
       "                  0         1         3\n",
       "2                                      \n",
       "-1.013591  2.033780  0.856272  1.336739\n",
       "-0.889895 -1.067555 -0.447581 -0.086363\n",
       "-0.841081 -0.175316 -0.541926 -0.112588\n",
       "-0.735697  0.523411 -0.197311  0.166370\n",
       "-0.682681  1.419271  0.476354 -1.600337\n",
       "-0.020062  0.685204 -0.297980 -1.505469\n",
       " 0.293876 -2.089288 -0.733178 -0.185747\n",
       " 0.523982  0.401118  2.084402  0.532413\n",
       " 1.058554  0.055915 -0.036197  0.674188\n",
       " 1.307662  0.884192  0.378528  0.853338"
      ]
     },
     "execution_count": 90,
     "metadata": {},
     "output_type": "execute_result"
    }
   ],
   "source": [
    "df.groupby(2).sum()"
   ]
  },
  {
   "cell_type": "code",
   "execution_count": 91,
   "id": "a655f03a",
   "metadata": {},
   "outputs": [],
   "source": [
    "my_tuple = list(zip(*[[1,2,3,4,5,17,18,19], [11,12,13,6,7,8,9,10]]))"
   ]
  },
  {
   "cell_type": "code",
   "execution_count": 92,
   "id": "0de82cb3",
   "metadata": {},
   "outputs": [],
   "source": [
    "index = pd.MultiIndex.from_tuples(my_tuple, names=['First', 'Second'])"
   ]
  },
  {
   "cell_type": "code",
   "execution_count": 93,
   "id": "2e3896fc",
   "metadata": {},
   "outputs": [],
   "source": [
    "df = pd.DataFrame(np.random.randn(8,2), index=index,columns=['A','B'])"
   ]
  },
  {
   "cell_type": "code",
   "execution_count": 94,
   "id": "255ed35d",
   "metadata": {},
   "outputs": [],
   "source": [
    "df2 = df[:4]"
   ]
  },
  {
   "cell_type": "code",
   "execution_count": 95,
   "id": "31d7fe0c",
   "metadata": {},
   "outputs": [
    {
     "data": {
      "text/html": [
       "<div>\n",
       "<style scoped>\n",
       "    .dataframe tbody tr th:only-of-type {\n",
       "        vertical-align: middle;\n",
       "    }\n",
       "\n",
       "    .dataframe tbody tr th {\n",
       "        vertical-align: top;\n",
       "    }\n",
       "\n",
       "    .dataframe thead th {\n",
       "        text-align: right;\n",
       "    }\n",
       "</style>\n",
       "<table border=\"1\" class=\"dataframe\">\n",
       "  <thead>\n",
       "    <tr style=\"text-align: right;\">\n",
       "      <th></th>\n",
       "      <th></th>\n",
       "      <th>A</th>\n",
       "      <th>B</th>\n",
       "    </tr>\n",
       "    <tr>\n",
       "      <th>First</th>\n",
       "      <th>Second</th>\n",
       "      <th></th>\n",
       "      <th></th>\n",
       "    </tr>\n",
       "  </thead>\n",
       "  <tbody>\n",
       "    <tr>\n",
       "      <th>1</th>\n",
       "      <th>11</th>\n",
       "      <td>-0.668931</td>\n",
       "      <td>2.335331</td>\n",
       "    </tr>\n",
       "    <tr>\n",
       "      <th>2</th>\n",
       "      <th>12</th>\n",
       "      <td>-0.312209</td>\n",
       "      <td>1.019915</td>\n",
       "    </tr>\n",
       "    <tr>\n",
       "      <th>3</th>\n",
       "      <th>13</th>\n",
       "      <td>-1.281704</td>\n",
       "      <td>0.022979</td>\n",
       "    </tr>\n",
       "    <tr>\n",
       "      <th>4</th>\n",
       "      <th>6</th>\n",
       "      <td>0.088900</td>\n",
       "      <td>0.607989</td>\n",
       "    </tr>\n",
       "  </tbody>\n",
       "</table>\n",
       "</div>"
      ],
      "text/plain": [
       "                     A         B\n",
       "First Second                    \n",
       "1     11     -0.668931  2.335331\n",
       "2     12     -0.312209  1.019915\n",
       "3     13     -1.281704  0.022979\n",
       "4     6       0.088900  0.607989"
      ]
     },
     "execution_count": 95,
     "metadata": {},
     "output_type": "execute_result"
    }
   ],
   "source": [
    "df2"
   ]
  },
  {
   "cell_type": "code",
   "execution_count": 101,
   "id": "ecc78425",
   "metadata": {},
   "outputs": [],
   "source": [
    "a = df2.stack()"
   ]
  },
  {
   "cell_type": "code",
   "execution_count": 103,
   "id": "2d07eeb0",
   "metadata": {},
   "outputs": [
    {
     "data": {
      "text/html": [
       "<div>\n",
       "<style scoped>\n",
       "    .dataframe tbody tr th:only-of-type {\n",
       "        vertical-align: middle;\n",
       "    }\n",
       "\n",
       "    .dataframe tbody tr th {\n",
       "        vertical-align: top;\n",
       "    }\n",
       "\n",
       "    .dataframe thead th {\n",
       "        text-align: right;\n",
       "    }\n",
       "</style>\n",
       "<table border=\"1\" class=\"dataframe\">\n",
       "  <thead>\n",
       "    <tr style=\"text-align: right;\">\n",
       "      <th></th>\n",
       "      <th></th>\n",
       "      <th>A</th>\n",
       "      <th>B</th>\n",
       "    </tr>\n",
       "    <tr>\n",
       "      <th>First</th>\n",
       "      <th>Second</th>\n",
       "      <th></th>\n",
       "      <th></th>\n",
       "    </tr>\n",
       "  </thead>\n",
       "  <tbody>\n",
       "    <tr>\n",
       "      <th>1</th>\n",
       "      <th>11</th>\n",
       "      <td>-0.668931</td>\n",
       "      <td>2.335331</td>\n",
       "    </tr>\n",
       "    <tr>\n",
       "      <th>2</th>\n",
       "      <th>12</th>\n",
       "      <td>-0.312209</td>\n",
       "      <td>1.019915</td>\n",
       "    </tr>\n",
       "    <tr>\n",
       "      <th>3</th>\n",
       "      <th>13</th>\n",
       "      <td>-1.281704</td>\n",
       "      <td>0.022979</td>\n",
       "    </tr>\n",
       "    <tr>\n",
       "      <th>4</th>\n",
       "      <th>6</th>\n",
       "      <td>0.088900</td>\n",
       "      <td>0.607989</td>\n",
       "    </tr>\n",
       "  </tbody>\n",
       "</table>\n",
       "</div>"
      ],
      "text/plain": [
       "                     A         B\n",
       "First Second                    \n",
       "1     11     -0.668931  2.335331\n",
       "2     12     -0.312209  1.019915\n",
       "3     13     -1.281704  0.022979\n",
       "4     6       0.088900  0.607989"
      ]
     },
     "execution_count": 103,
     "metadata": {},
     "output_type": "execute_result"
    }
   ],
   "source": [
    "a.unstack()"
   ]
  },
  {
   "cell_type": "code",
   "execution_count": 107,
   "id": "3d46b810",
   "metadata": {},
   "outputs": [],
   "source": [
    "df = pd.DataFrame({'A': ['a', 'b', 'c', 'd']*3,\n",
    "                   'B': ['A','B','C']*4,\n",
    "                   'C': ['P','P','P','Q','Q','Q']*2,\n",
    "                   'D': np.random.randn(12),\n",
    "                   'E': np.random.randn(12)})"
   ]
  },
  {
   "cell_type": "code",
   "execution_count": 108,
   "id": "fa61716a",
   "metadata": {},
   "outputs": [
    {
     "data": {
      "text/html": [
       "<div>\n",
       "<style scoped>\n",
       "    .dataframe tbody tr th:only-of-type {\n",
       "        vertical-align: middle;\n",
       "    }\n",
       "\n",
       "    .dataframe tbody tr th {\n",
       "        vertical-align: top;\n",
       "    }\n",
       "\n",
       "    .dataframe thead th {\n",
       "        text-align: right;\n",
       "    }\n",
       "</style>\n",
       "<table border=\"1\" class=\"dataframe\">\n",
       "  <thead>\n",
       "    <tr style=\"text-align: right;\">\n",
       "      <th></th>\n",
       "      <th>A</th>\n",
       "      <th>B</th>\n",
       "      <th>C</th>\n",
       "      <th>D</th>\n",
       "      <th>E</th>\n",
       "    </tr>\n",
       "  </thead>\n",
       "  <tbody>\n",
       "    <tr>\n",
       "      <th>0</th>\n",
       "      <td>a</td>\n",
       "      <td>A</td>\n",
       "      <td>P</td>\n",
       "      <td>-0.516197</td>\n",
       "      <td>-2.109354</td>\n",
       "    </tr>\n",
       "    <tr>\n",
       "      <th>1</th>\n",
       "      <td>b</td>\n",
       "      <td>B</td>\n",
       "      <td>P</td>\n",
       "      <td>-0.511090</td>\n",
       "      <td>-0.252439</td>\n",
       "    </tr>\n",
       "    <tr>\n",
       "      <th>2</th>\n",
       "      <td>c</td>\n",
       "      <td>C</td>\n",
       "      <td>P</td>\n",
       "      <td>0.325421</td>\n",
       "      <td>0.573520</td>\n",
       "    </tr>\n",
       "    <tr>\n",
       "      <th>3</th>\n",
       "      <td>d</td>\n",
       "      <td>A</td>\n",
       "      <td>Q</td>\n",
       "      <td>1.221886</td>\n",
       "      <td>-0.935252</td>\n",
       "    </tr>\n",
       "    <tr>\n",
       "      <th>4</th>\n",
       "      <td>a</td>\n",
       "      <td>B</td>\n",
       "      <td>Q</td>\n",
       "      <td>1.084538</td>\n",
       "      <td>0.060869</td>\n",
       "    </tr>\n",
       "    <tr>\n",
       "      <th>5</th>\n",
       "      <td>b</td>\n",
       "      <td>C</td>\n",
       "      <td>Q</td>\n",
       "      <td>1.565594</td>\n",
       "      <td>1.559948</td>\n",
       "    </tr>\n",
       "    <tr>\n",
       "      <th>6</th>\n",
       "      <td>c</td>\n",
       "      <td>A</td>\n",
       "      <td>P</td>\n",
       "      <td>0.447369</td>\n",
       "      <td>-2.634314</td>\n",
       "    </tr>\n",
       "    <tr>\n",
       "      <th>7</th>\n",
       "      <td>d</td>\n",
       "      <td>B</td>\n",
       "      <td>P</td>\n",
       "      <td>0.425356</td>\n",
       "      <td>0.906963</td>\n",
       "    </tr>\n",
       "    <tr>\n",
       "      <th>8</th>\n",
       "      <td>a</td>\n",
       "      <td>C</td>\n",
       "      <td>P</td>\n",
       "      <td>-0.598415</td>\n",
       "      <td>0.028491</td>\n",
       "    </tr>\n",
       "    <tr>\n",
       "      <th>9</th>\n",
       "      <td>b</td>\n",
       "      <td>A</td>\n",
       "      <td>Q</td>\n",
       "      <td>0.322505</td>\n",
       "      <td>-1.126189</td>\n",
       "    </tr>\n",
       "    <tr>\n",
       "      <th>10</th>\n",
       "      <td>c</td>\n",
       "      <td>B</td>\n",
       "      <td>Q</td>\n",
       "      <td>-0.483583</td>\n",
       "      <td>-0.040241</td>\n",
       "    </tr>\n",
       "    <tr>\n",
       "      <th>11</th>\n",
       "      <td>d</td>\n",
       "      <td>C</td>\n",
       "      <td>Q</td>\n",
       "      <td>-0.066535</td>\n",
       "      <td>0.385024</td>\n",
       "    </tr>\n",
       "  </tbody>\n",
       "</table>\n",
       "</div>"
      ],
      "text/plain": [
       "    A  B  C         D         E\n",
       "0   a  A  P -0.516197 -2.109354\n",
       "1   b  B  P -0.511090 -0.252439\n",
       "2   c  C  P  0.325421  0.573520\n",
       "3   d  A  Q  1.221886 -0.935252\n",
       "4   a  B  Q  1.084538  0.060869\n",
       "5   b  C  Q  1.565594  1.559948\n",
       "6   c  A  P  0.447369 -2.634314\n",
       "7   d  B  P  0.425356  0.906963\n",
       "8   a  C  P -0.598415  0.028491\n",
       "9   b  A  Q  0.322505 -1.126189\n",
       "10  c  B  Q -0.483583 -0.040241\n",
       "11  d  C  Q -0.066535  0.385024"
      ]
     },
     "execution_count": 108,
     "metadata": {},
     "output_type": "execute_result"
    }
   ],
   "source": [
    "df"
   ]
  },
  {
   "cell_type": "code",
   "execution_count": 109,
   "id": "c5afd260",
   "metadata": {},
   "outputs": [
    {
     "data": {
      "text/html": [
       "<div>\n",
       "<style scoped>\n",
       "    .dataframe tbody tr th:only-of-type {\n",
       "        vertical-align: middle;\n",
       "    }\n",
       "\n",
       "    .dataframe tbody tr th {\n",
       "        vertical-align: top;\n",
       "    }\n",
       "\n",
       "    .dataframe thead th {\n",
       "        text-align: right;\n",
       "    }\n",
       "</style>\n",
       "<table border=\"1\" class=\"dataframe\">\n",
       "  <thead>\n",
       "    <tr style=\"text-align: right;\">\n",
       "      <th></th>\n",
       "      <th>C</th>\n",
       "      <th>P</th>\n",
       "      <th>Q</th>\n",
       "    </tr>\n",
       "    <tr>\n",
       "      <th>A</th>\n",
       "      <th>B</th>\n",
       "      <th></th>\n",
       "      <th></th>\n",
       "    </tr>\n",
       "  </thead>\n",
       "  <tbody>\n",
       "    <tr>\n",
       "      <th rowspan=\"3\" valign=\"top\">a</th>\n",
       "      <th>A</th>\n",
       "      <td>-0.516197</td>\n",
       "      <td>NaN</td>\n",
       "    </tr>\n",
       "    <tr>\n",
       "      <th>B</th>\n",
       "      <td>NaN</td>\n",
       "      <td>1.084538</td>\n",
       "    </tr>\n",
       "    <tr>\n",
       "      <th>C</th>\n",
       "      <td>-0.598415</td>\n",
       "      <td>NaN</td>\n",
       "    </tr>\n",
       "    <tr>\n",
       "      <th rowspan=\"3\" valign=\"top\">b</th>\n",
       "      <th>A</th>\n",
       "      <td>NaN</td>\n",
       "      <td>0.322505</td>\n",
       "    </tr>\n",
       "    <tr>\n",
       "      <th>B</th>\n",
       "      <td>-0.511090</td>\n",
       "      <td>NaN</td>\n",
       "    </tr>\n",
       "    <tr>\n",
       "      <th>C</th>\n",
       "      <td>NaN</td>\n",
       "      <td>1.565594</td>\n",
       "    </tr>\n",
       "    <tr>\n",
       "      <th rowspan=\"3\" valign=\"top\">c</th>\n",
       "      <th>A</th>\n",
       "      <td>0.447369</td>\n",
       "      <td>NaN</td>\n",
       "    </tr>\n",
       "    <tr>\n",
       "      <th>B</th>\n",
       "      <td>NaN</td>\n",
       "      <td>-0.483583</td>\n",
       "    </tr>\n",
       "    <tr>\n",
       "      <th>C</th>\n",
       "      <td>0.325421</td>\n",
       "      <td>NaN</td>\n",
       "    </tr>\n",
       "    <tr>\n",
       "      <th rowspan=\"3\" valign=\"top\">d</th>\n",
       "      <th>A</th>\n",
       "      <td>NaN</td>\n",
       "      <td>1.221886</td>\n",
       "    </tr>\n",
       "    <tr>\n",
       "      <th>B</th>\n",
       "      <td>0.425356</td>\n",
       "      <td>NaN</td>\n",
       "    </tr>\n",
       "    <tr>\n",
       "      <th>C</th>\n",
       "      <td>NaN</td>\n",
       "      <td>-0.066535</td>\n",
       "    </tr>\n",
       "  </tbody>\n",
       "</table>\n",
       "</div>"
      ],
      "text/plain": [
       "C           P         Q\n",
       "A B                    \n",
       "a A -0.516197       NaN\n",
       "  B       NaN  1.084538\n",
       "  C -0.598415       NaN\n",
       "b A       NaN  0.322505\n",
       "  B -0.511090       NaN\n",
       "  C       NaN  1.565594\n",
       "c A  0.447369       NaN\n",
       "  B       NaN -0.483583\n",
       "  C  0.325421       NaN\n",
       "d A       NaN  1.221886\n",
       "  B  0.425356       NaN\n",
       "  C       NaN -0.066535"
      ]
     },
     "execution_count": 109,
     "metadata": {},
     "output_type": "execute_result"
    }
   ],
   "source": [
    "pd.pivot_table(df, values='D', index=['A','B'], columns = ['C'])"
   ]
  },
  {
   "cell_type": "code",
   "execution_count": 120,
   "id": "a3db1fad",
   "metadata": {},
   "outputs": [],
   "source": [
    "dates = pd.date_range('3/3/2020', periods = 100, freq='S')"
   ]
  },
  {
   "cell_type": "code",
   "execution_count": 121,
   "id": "03c2dbd2",
   "metadata": {},
   "outputs": [
    {
     "data": {
      "text/plain": [
       "DatetimeIndex(['2020-03-03 00:00:00', '2020-03-03 00:00:01',\n",
       "               '2020-03-03 00:00:02', '2020-03-03 00:00:03',\n",
       "               '2020-03-03 00:00:04', '2020-03-03 00:00:05',\n",
       "               '2020-03-03 00:00:06', '2020-03-03 00:00:07',\n",
       "               '2020-03-03 00:00:08', '2020-03-03 00:00:09',\n",
       "               '2020-03-03 00:00:10', '2020-03-03 00:00:11',\n",
       "               '2020-03-03 00:00:12', '2020-03-03 00:00:13',\n",
       "               '2020-03-03 00:00:14', '2020-03-03 00:00:15',\n",
       "               '2020-03-03 00:00:16', '2020-03-03 00:00:17',\n",
       "               '2020-03-03 00:00:18', '2020-03-03 00:00:19',\n",
       "               '2020-03-03 00:00:20', '2020-03-03 00:00:21',\n",
       "               '2020-03-03 00:00:22', '2020-03-03 00:00:23',\n",
       "               '2020-03-03 00:00:24', '2020-03-03 00:00:25',\n",
       "               '2020-03-03 00:00:26', '2020-03-03 00:00:27',\n",
       "               '2020-03-03 00:00:28', '2020-03-03 00:00:29',\n",
       "               '2020-03-03 00:00:30', '2020-03-03 00:00:31',\n",
       "               '2020-03-03 00:00:32', '2020-03-03 00:00:33',\n",
       "               '2020-03-03 00:00:34', '2020-03-03 00:00:35',\n",
       "               '2020-03-03 00:00:36', '2020-03-03 00:00:37',\n",
       "               '2020-03-03 00:00:38', '2020-03-03 00:00:39',\n",
       "               '2020-03-03 00:00:40', '2020-03-03 00:00:41',\n",
       "               '2020-03-03 00:00:42', '2020-03-03 00:00:43',\n",
       "               '2020-03-03 00:00:44', '2020-03-03 00:00:45',\n",
       "               '2020-03-03 00:00:46', '2020-03-03 00:00:47',\n",
       "               '2020-03-03 00:00:48', '2020-03-03 00:00:49',\n",
       "               '2020-03-03 00:00:50', '2020-03-03 00:00:51',\n",
       "               '2020-03-03 00:00:52', '2020-03-03 00:00:53',\n",
       "               '2020-03-03 00:00:54', '2020-03-03 00:00:55',\n",
       "               '2020-03-03 00:00:56', '2020-03-03 00:00:57',\n",
       "               '2020-03-03 00:00:58', '2020-03-03 00:00:59',\n",
       "               '2020-03-03 00:01:00', '2020-03-03 00:01:01',\n",
       "               '2020-03-03 00:01:02', '2020-03-03 00:01:03',\n",
       "               '2020-03-03 00:01:04', '2020-03-03 00:01:05',\n",
       "               '2020-03-03 00:01:06', '2020-03-03 00:01:07',\n",
       "               '2020-03-03 00:01:08', '2020-03-03 00:01:09',\n",
       "               '2020-03-03 00:01:10', '2020-03-03 00:01:11',\n",
       "               '2020-03-03 00:01:12', '2020-03-03 00:01:13',\n",
       "               '2020-03-03 00:01:14', '2020-03-03 00:01:15',\n",
       "               '2020-03-03 00:01:16', '2020-03-03 00:01:17',\n",
       "               '2020-03-03 00:01:18', '2020-03-03 00:01:19',\n",
       "               '2020-03-03 00:01:20', '2020-03-03 00:01:21',\n",
       "               '2020-03-03 00:01:22', '2020-03-03 00:01:23',\n",
       "               '2020-03-03 00:01:24', '2020-03-03 00:01:25',\n",
       "               '2020-03-03 00:01:26', '2020-03-03 00:01:27',\n",
       "               '2020-03-03 00:01:28', '2020-03-03 00:01:29',\n",
       "               '2020-03-03 00:01:30', '2020-03-03 00:01:31',\n",
       "               '2020-03-03 00:01:32', '2020-03-03 00:01:33',\n",
       "               '2020-03-03 00:01:34', '2020-03-03 00:01:35',\n",
       "               '2020-03-03 00:01:36', '2020-03-03 00:01:37',\n",
       "               '2020-03-03 00:01:38', '2020-03-03 00:01:39'],\n",
       "              dtype='datetime64[ns]', freq='S')"
      ]
     },
     "execution_count": 121,
     "metadata": {},
     "output_type": "execute_result"
    }
   ],
   "source": [
    "dates"
   ]
  },
  {
   "cell_type": "code",
   "execution_count": 122,
   "id": "e75cacb0",
   "metadata": {},
   "outputs": [],
   "source": [
    "ts = pd.Series(np.random.randint(0,500, len(dates)), index=dates)"
   ]
  },
  {
   "cell_type": "code",
   "execution_count": 115,
   "id": "a830c2a8",
   "metadata": {},
   "outputs": [
    {
     "data": {
      "text/plain": [
       "2020-03-01 00:00:00    197\n",
       "2020-03-01 00:00:01    481\n",
       "2020-03-01 00:00:02    187\n",
       "2020-03-01 00:00:03    368\n",
       "2020-03-01 00:00:04    422\n",
       "                      ... \n",
       "2020-03-01 00:01:35    117\n",
       "2020-03-01 00:01:36     82\n",
       "2020-03-01 00:01:37      9\n",
       "2020-03-01 00:01:38    227\n",
       "2020-03-01 00:01:39    329\n",
       "Freq: S, Length: 100, dtype: int32"
      ]
     },
     "execution_count": 115,
     "metadata": {},
     "output_type": "execute_result"
    }
   ],
   "source": [
    "ts"
   ]
  },
  {
   "cell_type": "code",
   "execution_count": 123,
   "id": "e3baed0d",
   "metadata": {},
   "outputs": [
    {
     "data": {
      "text/plain": [
       "2020-03-03    25989\n",
       "Freq: 5T, dtype: int32"
      ]
     },
     "execution_count": 123,
     "metadata": {},
     "output_type": "execute_result"
    }
   ],
   "source": [
    "ts.resample('5min').sum()"
   ]
  },
  {
   "cell_type": "code",
   "execution_count": 127,
   "id": "6793ba07",
   "metadata": {},
   "outputs": [],
   "source": [
    "dates = pd.date_range('3/3/2020 00:00', periods = 5, freq='S')"
   ]
  },
  {
   "cell_type": "code",
   "execution_count": 130,
   "id": "0e513459",
   "metadata": {},
   "outputs": [],
   "source": [
    "ts = pd.Series(np.random.randn(len(dates)),dates)"
   ]
  },
  {
   "cell_type": "code",
   "execution_count": 131,
   "id": "47251af4",
   "metadata": {},
   "outputs": [
    {
     "data": {
      "text/plain": [
       "2020-03-03 00:00:00   -0.929485\n",
       "2020-03-03 00:00:01    1.717874\n",
       "2020-03-03 00:00:02    0.425095\n",
       "2020-03-03 00:00:03   -0.859531\n",
       "2020-03-03 00:00:04    0.394850\n",
       "Freq: S, dtype: float64"
      ]
     },
     "execution_count": 131,
     "metadata": {},
     "output_type": "execute_result"
    }
   ],
   "source": [
    "ts"
   ]
  },
  {
   "cell_type": "code",
   "execution_count": 132,
   "id": "583e263f",
   "metadata": {},
   "outputs": [],
   "source": [
    "ts_utc = ts.tz_localize('UTC')"
   ]
  },
  {
   "cell_type": "code",
   "execution_count": 133,
   "id": "5d45970e",
   "metadata": {},
   "outputs": [
    {
     "data": {
      "text/plain": [
       "2020-03-03 00:00:00+00:00   -0.929485\n",
       "2020-03-03 00:00:01+00:00    1.717874\n",
       "2020-03-03 00:00:02+00:00    0.425095\n",
       "2020-03-03 00:00:03+00:00   -0.859531\n",
       "2020-03-03 00:00:04+00:00    0.394850\n",
       "Freq: S, dtype: float64"
      ]
     },
     "execution_count": 133,
     "metadata": {},
     "output_type": "execute_result"
    }
   ],
   "source": [
    "ts_utc"
   ]
  },
  {
   "cell_type": "code",
   "execution_count": 134,
   "id": "819156d7",
   "metadata": {},
   "outputs": [
    {
     "data": {
      "text/plain": [
       "2020-03-02 19:00:00-05:00   -0.929485\n",
       "2020-03-02 19:00:01-05:00    1.717874\n",
       "2020-03-02 19:00:02-05:00    0.425095\n",
       "2020-03-02 19:00:03-05:00   -0.859531\n",
       "2020-03-02 19:00:04-05:00    0.394850\n",
       "Freq: S, dtype: float64"
      ]
     },
     "execution_count": 134,
     "metadata": {},
     "output_type": "execute_result"
    }
   ],
   "source": [
    "ts_utc.tz_convert('US/Eastern')"
   ]
  },
  {
   "cell_type": "code",
   "execution_count": 137,
   "id": "3c2fe9dd",
   "metadata": {},
   "outputs": [],
   "source": [
    "dates = pd.date_range('3/3/2020', periods = 5, freq = 'M')"
   ]
  },
  {
   "cell_type": "code",
   "execution_count": 138,
   "id": "9b784fce",
   "metadata": {},
   "outputs": [],
   "source": [
    "ts = pd.Series(np.random.randn(len(dates)),dates)"
   ]
  },
  {
   "cell_type": "code",
   "execution_count": 139,
   "id": "ba246910",
   "metadata": {},
   "outputs": [
    {
     "data": {
      "text/plain": [
       "2020-03-31    1.118146\n",
       "2020-04-30    0.276417\n",
       "2020-05-31   -0.474721\n",
       "2020-06-30    0.918405\n",
       "2020-07-31    0.177030\n",
       "Freq: M, dtype: float64"
      ]
     },
     "execution_count": 139,
     "metadata": {},
     "output_type": "execute_result"
    }
   ],
   "source": [
    "ts"
   ]
  },
  {
   "cell_type": "code",
   "execution_count": 140,
   "id": "893fab3b",
   "metadata": {},
   "outputs": [],
   "source": [
    "ps = ts.to_period()"
   ]
  },
  {
   "cell_type": "code",
   "execution_count": 141,
   "id": "4af5aab9",
   "metadata": {},
   "outputs": [
    {
     "data": {
      "text/plain": [
       "2020-03    1.118146\n",
       "2020-04    0.276417\n",
       "2020-05   -0.474721\n",
       "2020-06    0.918405\n",
       "2020-07    0.177030\n",
       "Freq: M, dtype: float64"
      ]
     },
     "execution_count": 141,
     "metadata": {},
     "output_type": "execute_result"
    }
   ],
   "source": [
    "ps"
   ]
  },
  {
   "cell_type": "code",
   "execution_count": 142,
   "id": "5251e7b6",
   "metadata": {},
   "outputs": [
    {
     "data": {
      "text/plain": [
       "2020-03-01    1.118146\n",
       "2020-04-01    0.276417\n",
       "2020-05-01   -0.474721\n",
       "2020-06-01    0.918405\n",
       "2020-07-01    0.177030\n",
       "Freq: MS, dtype: float64"
      ]
     },
     "execution_count": 142,
     "metadata": {},
     "output_type": "execute_result"
    }
   ],
   "source": [
    "ps.to_timestamp()"
   ]
  },
  {
   "cell_type": "code",
   "execution_count": 143,
   "id": "354d77b0",
   "metadata": {},
   "outputs": [],
   "source": [
    "df = pd.DataFrame({'id': [1,2,3,4,5,6],\n",
    "                   'grade': ['a','b','c','b','a','e']})"
   ]
  },
  {
   "cell_type": "code",
   "execution_count": 144,
   "id": "e21bc4b8",
   "metadata": {},
   "outputs": [
    {
     "data": {
      "text/html": [
       "<div>\n",
       "<style scoped>\n",
       "    .dataframe tbody tr th:only-of-type {\n",
       "        vertical-align: middle;\n",
       "    }\n",
       "\n",
       "    .dataframe tbody tr th {\n",
       "        vertical-align: top;\n",
       "    }\n",
       "\n",
       "    .dataframe thead th {\n",
       "        text-align: right;\n",
       "    }\n",
       "</style>\n",
       "<table border=\"1\" class=\"dataframe\">\n",
       "  <thead>\n",
       "    <tr style=\"text-align: right;\">\n",
       "      <th></th>\n",
       "      <th>id</th>\n",
       "      <th>grade</th>\n",
       "    </tr>\n",
       "  </thead>\n",
       "  <tbody>\n",
       "    <tr>\n",
       "      <th>0</th>\n",
       "      <td>1</td>\n",
       "      <td>a</td>\n",
       "    </tr>\n",
       "    <tr>\n",
       "      <th>1</th>\n",
       "      <td>2</td>\n",
       "      <td>b</td>\n",
       "    </tr>\n",
       "    <tr>\n",
       "      <th>2</th>\n",
       "      <td>3</td>\n",
       "      <td>c</td>\n",
       "    </tr>\n",
       "    <tr>\n",
       "      <th>3</th>\n",
       "      <td>4</td>\n",
       "      <td>b</td>\n",
       "    </tr>\n",
       "    <tr>\n",
       "      <th>4</th>\n",
       "      <td>5</td>\n",
       "      <td>a</td>\n",
       "    </tr>\n",
       "    <tr>\n",
       "      <th>5</th>\n",
       "      <td>6</td>\n",
       "      <td>e</td>\n",
       "    </tr>\n",
       "  </tbody>\n",
       "</table>\n",
       "</div>"
      ],
      "text/plain": [
       "   id grade\n",
       "0   1     a\n",
       "1   2     b\n",
       "2   3     c\n",
       "3   4     b\n",
       "4   5     a\n",
       "5   6     e"
      ]
     },
     "execution_count": 144,
     "metadata": {},
     "output_type": "execute_result"
    }
   ],
   "source": [
    "df"
   ]
  },
  {
   "cell_type": "code",
   "execution_count": 145,
   "id": "3cc146fc",
   "metadata": {},
   "outputs": [],
   "source": [
    "df['Grade'] = df['grade'].astype('category')"
   ]
  },
  {
   "cell_type": "code",
   "execution_count": 154,
   "id": "e79fc7e7",
   "metadata": {},
   "outputs": [
    {
     "ename": "ValueError",
     "evalue": "new categories need to have the same number of items as the old categories!",
     "output_type": "error",
     "traceback": [
      "\u001b[1;31m---------------------------------------------------------------------------\u001b[0m",
      "\u001b[1;31mValueError\u001b[0m                                Traceback (most recent call last)",
      "\u001b[1;32m~\\AppData\\Local\\Temp/ipykernel_8356/2611389358.py\u001b[0m in \u001b[0;36m<module>\u001b[1;34m\u001b[0m\n\u001b[1;32m----> 1\u001b[1;33m \u001b[0mdf\u001b[0m\u001b[1;33m[\u001b[0m\u001b[1;34m'Grade'\u001b[0m\u001b[1;33m]\u001b[0m\u001b[1;33m.\u001b[0m\u001b[0mcat\u001b[0m\u001b[1;33m.\u001b[0m\u001b[0mcategories\u001b[0m \u001b[1;33m=\u001b[0m \u001b[1;33m[\u001b[0m\u001b[1;34m'good'\u001b[0m\u001b[1;33m,\u001b[0m\u001b[1;34m'very bad'\u001b[0m\u001b[1;33m,\u001b[0m\u001b[1;34m'very good'\u001b[0m\u001b[1;33m,\u001b[0m\u001b[1;34m'excellent'\u001b[0m\u001b[1;33m]\u001b[0m\u001b[1;33m\u001b[0m\u001b[1;33m\u001b[0m\u001b[0m\n\u001b[0m",
      "\u001b[1;32m~\\anaconda3\\lib\\site-packages\\pandas\\core\\base.py\u001b[0m in \u001b[0;36m__setattr__\u001b[1;34m(self, key, value)\u001b[0m\n\u001b[0;32m    158\u001b[0m         ):\n\u001b[0;32m    159\u001b[0m             \u001b[1;32mraise\u001b[0m \u001b[0mAttributeError\u001b[0m\u001b[1;33m(\u001b[0m\u001b[1;34mf\"You cannot add any new attribute '{key}'\"\u001b[0m\u001b[1;33m)\u001b[0m\u001b[1;33m\u001b[0m\u001b[1;33m\u001b[0m\u001b[0m\n\u001b[1;32m--> 160\u001b[1;33m         \u001b[0mobject\u001b[0m\u001b[1;33m.\u001b[0m\u001b[0m__setattr__\u001b[0m\u001b[1;33m(\u001b[0m\u001b[0mself\u001b[0m\u001b[1;33m,\u001b[0m \u001b[0mkey\u001b[0m\u001b[1;33m,\u001b[0m \u001b[0mvalue\u001b[0m\u001b[1;33m)\u001b[0m\u001b[1;33m\u001b[0m\u001b[1;33m\u001b[0m\u001b[0m\n\u001b[0m\u001b[0;32m    161\u001b[0m \u001b[1;33m\u001b[0m\u001b[0m\n\u001b[0;32m    162\u001b[0m \u001b[1;33m\u001b[0m\u001b[0m\n",
      "\u001b[1;32m~\\anaconda3\\lib\\site-packages\\pandas\\core\\accessor.py\u001b[0m in \u001b[0;36m_setter\u001b[1;34m(self, new_values)\u001b[0m\n\u001b[0;32m     80\u001b[0m \u001b[1;33m\u001b[0m\u001b[0m\n\u001b[0;32m     81\u001b[0m             \u001b[1;32mdef\u001b[0m \u001b[0m_setter\u001b[0m\u001b[1;33m(\u001b[0m\u001b[0mself\u001b[0m\u001b[1;33m,\u001b[0m \u001b[0mnew_values\u001b[0m\u001b[1;33m)\u001b[0m\u001b[1;33m:\u001b[0m\u001b[1;33m\u001b[0m\u001b[1;33m\u001b[0m\u001b[0m\n\u001b[1;32m---> 82\u001b[1;33m                 \u001b[1;32mreturn\u001b[0m \u001b[0mself\u001b[0m\u001b[1;33m.\u001b[0m\u001b[0m_delegate_property_set\u001b[0m\u001b[1;33m(\u001b[0m\u001b[0mname\u001b[0m\u001b[1;33m,\u001b[0m \u001b[0mnew_values\u001b[0m\u001b[1;33m)\u001b[0m\u001b[1;33m\u001b[0m\u001b[1;33m\u001b[0m\u001b[0m\n\u001b[0m\u001b[0;32m     83\u001b[0m \u001b[1;33m\u001b[0m\u001b[0m\n\u001b[0;32m     84\u001b[0m             \u001b[0m_getter\u001b[0m\u001b[1;33m.\u001b[0m\u001b[0m__name__\u001b[0m \u001b[1;33m=\u001b[0m \u001b[0mname\u001b[0m\u001b[1;33m\u001b[0m\u001b[1;33m\u001b[0m\u001b[0m\n",
      "\u001b[1;32m~\\anaconda3\\lib\\site-packages\\pandas\\core\\arrays\\categorical.py\u001b[0m in \u001b[0;36m_delegate_property_set\u001b[1;34m(self, name, new_values)\u001b[0m\n\u001b[0;32m   2614\u001b[0m \u001b[1;33m\u001b[0m\u001b[0m\n\u001b[0;32m   2615\u001b[0m     \u001b[1;32mdef\u001b[0m \u001b[0m_delegate_property_set\u001b[0m\u001b[1;33m(\u001b[0m\u001b[0mself\u001b[0m\u001b[1;33m,\u001b[0m \u001b[0mname\u001b[0m\u001b[1;33m,\u001b[0m \u001b[0mnew_values\u001b[0m\u001b[1;33m)\u001b[0m\u001b[1;33m:\u001b[0m\u001b[1;33m\u001b[0m\u001b[1;33m\u001b[0m\u001b[0m\n\u001b[1;32m-> 2616\u001b[1;33m         \u001b[1;32mreturn\u001b[0m \u001b[0msetattr\u001b[0m\u001b[1;33m(\u001b[0m\u001b[0mself\u001b[0m\u001b[1;33m.\u001b[0m\u001b[0m_parent\u001b[0m\u001b[1;33m,\u001b[0m \u001b[0mname\u001b[0m\u001b[1;33m,\u001b[0m \u001b[0mnew_values\u001b[0m\u001b[1;33m)\u001b[0m\u001b[1;33m\u001b[0m\u001b[1;33m\u001b[0m\u001b[0m\n\u001b[0m\u001b[0;32m   2617\u001b[0m \u001b[1;33m\u001b[0m\u001b[0m\n\u001b[0;32m   2618\u001b[0m     \u001b[1;33m@\u001b[0m\u001b[0mproperty\u001b[0m\u001b[1;33m\u001b[0m\u001b[1;33m\u001b[0m\u001b[0m\n",
      "\u001b[1;32m~\\anaconda3\\lib\\site-packages\\pandas\\core\\arrays\\categorical.py\u001b[0m in \u001b[0;36mcategories\u001b[1;34m(self, categories)\u001b[0m\n\u001b[0;32m    735\u001b[0m             \u001b[0mnew_dtype\u001b[0m\u001b[1;33m.\u001b[0m\u001b[0mcategories\u001b[0m\u001b[1;33m\u001b[0m\u001b[1;33m\u001b[0m\u001b[0m\n\u001b[0;32m    736\u001b[0m         ):\n\u001b[1;32m--> 737\u001b[1;33m             raise ValueError(\n\u001b[0m\u001b[0;32m    738\u001b[0m                 \u001b[1;34m\"new categories need to have the same number of \"\u001b[0m\u001b[1;33m\u001b[0m\u001b[1;33m\u001b[0m\u001b[0m\n\u001b[0;32m    739\u001b[0m                 \u001b[1;34m\"items as the old categories!\"\u001b[0m\u001b[1;33m\u001b[0m\u001b[1;33m\u001b[0m\u001b[0m\n",
      "\u001b[1;31mValueError\u001b[0m: new categories need to have the same number of items as the old categories!"
     ]
    }
   ],
   "source": [
    "df['Grade'].cat.categories = ['good','very bad','very good','excellent']"
   ]
  },
  {
   "cell_type": "code",
   "execution_count": 156,
   "id": "e48b45d1",
   "metadata": {},
   "outputs": [],
   "source": [
    "df['Grade'] = df['Grade'].cat.set_categories(['very good', 'bad', 'very bad', 'good', 'medium'])"
   ]
  },
  {
   "cell_type": "code",
   "execution_count": 157,
   "id": "029c4884",
   "metadata": {},
   "outputs": [
    {
     "data": {
      "text/plain": [
       "0         good\n",
       "1     very bad\n",
       "2    very good\n",
       "3     very bad\n",
       "4         good\n",
       "5          NaN\n",
       "Name: Grade, dtype: category\n",
       "Categories (5, object): ['very good', 'bad', 'very bad', 'good', 'medium']"
      ]
     },
     "execution_count": 157,
     "metadata": {},
     "output_type": "execute_result"
    }
   ],
   "source": [
    "df['Grade']"
   ]
  },
  {
   "cell_type": "code",
   "execution_count": 158,
   "id": "2e372816",
   "metadata": {},
   "outputs": [],
   "source": [
    "import matplotlib.pyplot as plt"
   ]
  },
  {
   "cell_type": "code",
   "execution_count": 159,
   "id": "bb4d0714",
   "metadata": {},
   "outputs": [],
   "source": [
    "plt.close('all')"
   ]
  },
  {
   "cell_type": "code",
   "execution_count": 163,
   "id": "c4050434",
   "metadata": {},
   "outputs": [],
   "source": [
    "ts = pd.Series(np.random.randn(500), index=pd.date_range('1/2/2020', periods= 500))"
   ]
  },
  {
   "cell_type": "code",
   "execution_count": 165,
   "id": "84558e7a",
   "metadata": {},
   "outputs": [],
   "source": [
    "ts = ts.cumsum()"
   ]
  },
  {
   "cell_type": "code",
   "execution_count": 166,
   "id": "30e983b4",
   "metadata": {},
   "outputs": [
    {
     "data": {
      "text/plain": [
       "<AxesSubplot:>"
      ]
     },
     "execution_count": 166,
     "metadata": {},
     "output_type": "execute_result"
    },
    {
     "data": {
      "image/png": "[encoded data removed]",
      "text/plain": [
       "<Figure size 432x288 with 1 Axes>"
      ]
     },
     "metadata": {
      "needs_background": "light"
     },
     "output_type": "display_data"
    }
   ],
   "source": [
    "ts.plot()"
   ]
  },
  {
   "cell_type": "code",
   "execution_count": 169,
   "id": "dc15b54a",
   "metadata": {},
   "outputs": [],
   "source": [
    "ts.to_csv('ts.csv')"
   ]
  },
  {
   "cell_type": "code",
   "execution_count": 170,
   "id": "350163e2",
   "metadata": {},
   "outputs": [],
   "source": [
    "# pd.read_csv(r'give filepath here')\n",
    "# to read from a csv file"
   ]
  },
  {
   "cell_type": "code",
   "execution_count": null,
   "id": "44fdb356",
   "metadata": {},
   "outputs": [],
   "source": []
  }
 ],
 "metadata": {
  "kernelspec": {
   "display_name": "Python 3 (ipykernel)",
   "language": "python",
   "name": "python3"
  },
  "language_info": {
   "codemirror_mode": {
    "name": "ipython",
    "version": 3
   },
   "file_extension": ".py",
   "mimetype": "text/x-python",
   "name": "python",
   "nbconvert_exporter": "python",
   "pygments_lexer": "ipython3",
   "version": "3.9.7"
  }
 },
 "nbformat": 4,
 "nbformat_minor": 5
}
