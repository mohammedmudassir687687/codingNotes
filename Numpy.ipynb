{
 "cells": [
  {
   "cell_type": "code",
   "execution_count": 1,
   "id": "7767e105",
   "metadata": {},
   "outputs": [
    {
     "name": "stdout",
     "output_type": "stream",
     "text": [
      "[1 2 3]\n",
      "[1 2 3]\n"
     ]
    }
   ],
   "source": [
    "import numpy as np\n",
    "a = np.array([1,2,3])\n",
    "b = np.array((1,2,3))\n",
    "print(a)\n",
    "print(b)"
   ]
  },
  {
   "cell_type": "code",
   "execution_count": 2,
   "id": "01db2212",
   "metadata": {},
   "outputs": [],
   "source": [
    "b[1] = 4"
   ]
  },
  {
   "cell_type": "code",
   "execution_count": 3,
   "id": "aed47e28",
   "metadata": {},
   "outputs": [
    {
     "data": {
      "text/plain": [
       "array([1, 4, 3])"
      ]
     },
     "execution_count": 3,
     "metadata": {},
     "output_type": "execute_result"
    }
   ],
   "source": [
    "b"
   ]
  },
  {
   "cell_type": "code",
   "execution_count": 4,
   "id": "ae0fec1b",
   "metadata": {},
   "outputs": [
    {
     "name": "stdout",
     "output_type": "stream",
     "text": [
      "[[1 2 3]\n",
      " [4 5 6]]\n"
     ]
    }
   ],
   "source": [
    "c = np.array([[1,2,3],[4,5,6]])\n",
    "print(c)"
   ]
  },
  {
   "cell_type": "code",
   "execution_count": 5,
   "id": "b517dc24",
   "metadata": {},
   "outputs": [
    {
     "data": {
      "text/plain": [
       "array([1, 2, 3])"
      ]
     },
     "execution_count": 5,
     "metadata": {},
     "output_type": "execute_result"
    }
   ],
   "source": [
    "c[0]"
   ]
  },
  {
   "cell_type": "code",
   "execution_count": 6,
   "id": "4a1833dc",
   "metadata": {},
   "outputs": [
    {
     "data": {
      "text/plain": [
       "array([4, 5, 6])"
      ]
     },
     "execution_count": 6,
     "metadata": {},
     "output_type": "execute_result"
    }
   ],
   "source": [
    "c[1]"
   ]
  },
  {
   "cell_type": "code",
   "execution_count": 9,
   "id": "f9cd0e10",
   "metadata": {},
   "outputs": [
    {
     "name": "stdout",
     "output_type": "stream",
     "text": [
      "[[0. 0. 0. 0.]\n",
      " [0. 0. 0. 0.]\n",
      " [0. 0. 0. 0.]]\n"
     ]
    }
   ],
   "source": [
    "a = np.zeros((3,4))\n",
    "# np.zeros((row,column))\n",
    "print(a)"
   ]
  },
  {
   "cell_type": "code",
   "execution_count": 12,
   "id": "7e6a0a15",
   "metadata": {},
   "outputs": [],
   "source": [
    "a = np.arange(10,25,5)"
   ]
  },
  {
   "cell_type": "code",
   "execution_count": 13,
   "id": "db84ad95",
   "metadata": {},
   "outputs": [
    {
     "name": "stdout",
     "output_type": "stream",
     "text": [
      "[10 15 20]\n"
     ]
    }
   ],
   "source": [
    "print(a)"
   ]
  },
  {
   "cell_type": "code",
   "execution_count": 14,
   "id": "d4d02583",
   "metadata": {},
   "outputs": [
    {
     "name": "stdout",
     "output_type": "stream",
     "text": [
      "[10 12 14 16 18]\n"
     ]
    }
   ],
   "source": [
    "# np.arange(startnum, endnumber, interval)\n",
    "# startnum till endnum-interval\n",
    "a = np.arange(10,20,2)\n",
    "print(a)"
   ]
  },
  {
   "cell_type": "code",
   "execution_count": 18,
   "id": "8cd3b8ee",
   "metadata": {},
   "outputs": [
    {
     "name": "stdout",
     "output_type": "stream",
     "text": [
      "[5.         5.11111111 5.22222222 5.33333333 5.44444444 5.55555556\n",
      " 5.66666667 5.77777778 5.88888889 6.        ]\n"
     ]
    }
   ],
   "source": [
    "# np.linspace(startnum, endnum, numberofpoints)\n",
    "b = np.linspace(5,6,10)\n",
    "print(b)"
   ]
  },
  {
   "cell_type": "code",
   "execution_count": 21,
   "id": "82f10482",
   "metadata": {},
   "outputs": [
    {
     "name": "stdout",
     "output_type": "stream",
     "text": [
      "[[5 5 5 5]\n",
      " [5 5 5 5]\n",
      " [5 5 5 5]]\n"
     ]
    }
   ],
   "source": [
    "import numpy as np\n",
    "# np.full((row,column),numbertofill)\n",
    "c = np.full((3,4),5)\n",
    "print(c)"
   ]
  },
  {
   "cell_type": "code",
   "execution_count": 22,
   "id": "c998bd67",
   "metadata": {},
   "outputs": [
    {
     "name": "stdout",
     "output_type": "stream",
     "text": [
      "[[0.33628535 0.68235432 0.87266484 0.55721765]\n",
      " [0.79222606 0.80642572 0.5312543  0.95939865]\n",
      " [0.23245661 0.73719377 0.67079854 0.27065873]]\n"
     ]
    }
   ],
   "source": [
    "import numpy as np\n",
    "d = np.random.random((3,4))\n",
    "print(d)"
   ]
  },
  {
   "cell_type": "code",
   "execution_count": 32,
   "id": "54038c39",
   "metadata": {},
   "outputs": [],
   "source": [
    "a = np.array([[1,2,3],[4,5,6]])"
   ]
  },
  {
   "cell_type": "code",
   "execution_count": 33,
   "id": "31b0a093",
   "metadata": {},
   "outputs": [
    {
     "name": "stdout",
     "output_type": "stream",
     "text": [
      "[[1 2 3]\n",
      " [4 5 6]]\n",
      "(2, 3)\n"
     ]
    }
   ],
   "source": [
    "print(a)\n",
    "# np.array.shape returns tuple (row,column)\n",
    "print(a.shape)"
   ]
  },
  {
   "cell_type": "code",
   "execution_count": 36,
   "id": "3b11c123",
   "metadata": {},
   "outputs": [
    {
     "name": "stdout",
     "output_type": "stream",
     "text": [
      "3\n",
      "2\n",
      "2\n",
      "[[1 2]\n",
      " [3 4]\n",
      " [5 6]]\n"
     ]
    }
   ],
   "source": [
    "a.shape = (3,2)\n",
    "print(a.shape[0])\n",
    "print(a.shape[1])\n",
    "# returns the number of dimensions of the array\n",
    "print(a.ndim)\n",
    "print(a)"
   ]
  },
  {
   "cell_type": "code",
   "execution_count": 37,
   "id": "f9e888d3",
   "metadata": {},
   "outputs": [],
   "source": [
    "# np.arange(numberofpointsneeded)\n",
    "# will place the numbers between 0 till that number\n",
    "a = np.arange(24)"
   ]
  },
  {
   "cell_type": "code",
   "execution_count": 38,
   "id": "3ecc5aa4",
   "metadata": {},
   "outputs": [
    {
     "data": {
      "text/plain": [
       "24"
      ]
     },
     "execution_count": 38,
     "metadata": {},
     "output_type": "execute_result"
    }
   ],
   "source": [
    "a.size"
   ]
  },
  {
   "cell_type": "code",
   "execution_count": 39,
   "id": "988457f9",
   "metadata": {},
   "outputs": [
    {
     "data": {
      "text/plain": [
       "dtype('int32')"
      ]
     },
     "execution_count": 39,
     "metadata": {},
     "output_type": "execute_result"
    }
   ],
   "source": [
    "a.dtype"
   ]
  },
  {
   "cell_type": "code",
   "execution_count": 40,
   "id": "cb018112",
   "metadata": {},
   "outputs": [
    {
     "name": "stdout",
     "output_type": "stream",
     "text": [
      "[5.  5.2 5.4 5.6 5.8 6.  6.2 6.4 6.6 6.8 7. ]\n"
     ]
    },
    {
     "data": {
      "text/plain": [
       "dtype('float64')"
      ]
     },
     "execution_count": 40,
     "metadata": {},
     "output_type": "execute_result"
    }
   ],
   "source": [
    "b = np.linspace(5,7,11)\n",
    "print(b)\n",
    "b.dtype"
   ]
  },
  {
   "cell_type": "code",
   "execution_count": 41,
   "id": "d8e85369",
   "metadata": {},
   "outputs": [
    {
     "data": {
      "text/plain": [
       "15"
      ]
     },
     "execution_count": 41,
     "metadata": {},
     "output_type": "execute_result"
    }
   ],
   "source": [
    "a = np.array([5,10])\n",
    "np.sum(a)"
   ]
  },
  {
   "cell_type": "code",
   "execution_count": 47,
   "id": "80fdb966",
   "metadata": {},
   "outputs": [
    {
     "name": "stdout",
     "output_type": "stream",
     "text": [
      "20\n",
      "[3 7]\n"
     ]
    }
   ],
   "source": [
    "b = [2,3]\n",
    "print(np.sum([a,b]))\n",
    "print(np.subtract(a,b))"
   ]
  },
  {
   "cell_type": "code",
   "execution_count": 54,
   "id": "ecf67ace",
   "metadata": {},
   "outputs": [
    {
     "name": "stdout",
     "output_type": "stream",
     "text": [
      "[ 7 13]\n",
      "[15  5]\n",
      "[1 5]\n",
      "[0 6]\n"
     ]
    }
   ],
   "source": [
    "print(np.sum([a,b], axis=0))\n",
    "print(np.sum([a,b], axis=1))\n",
    "print(np.sum([[0,1],[0,5]], axis=1))\n",
    "print(np.sum([[0,1],[0,5]], axis=0))"
   ]
  },
  {
   "cell_type": "code",
   "execution_count": 61,
   "id": "74744074",
   "metadata": {},
   "outputs": [
    {
     "name": "stdout",
     "output_type": "stream",
     "text": [
      "[ 5 10] [2, 3]\n",
      "[2.5        3.33333333]\n",
      "[10 30]\n"
     ]
    }
   ],
   "source": [
    "print(a,b)\n",
    "print(np.divide(a,b))\n",
    "print(np.multiply(a,b))"
   ]
  },
  {
   "cell_type": "code",
   "execution_count": 64,
   "id": "28ab1e13",
   "metadata": {},
   "outputs": [
    {
     "name": "stdout",
     "output_type": "stream",
     "text": [
      "[  148.4131591  22026.46579481]\n",
      "[2.23606798 3.16227766]\n",
      "[-0.95892427 -0.54402111]\n",
      "[ 0.28366219 -0.83907153]\n",
      "[1.60943791 2.30258509]\n"
     ]
    }
   ],
   "source": [
    "print(np.exp(a))\n",
    "print(np.sqrt(a))\n",
    "print(np.sin(a))\n",
    "print(np.cos(a))\n",
    "print(np.log(a))"
   ]
  },
  {
   "cell_type": "code",
   "execution_count": 67,
   "id": "5ae904c6",
   "metadata": {},
   "outputs": [
    {
     "name": "stdout",
     "output_type": "stream",
     "text": [
      "[False  True False]\n",
      "False\n"
     ]
    }
   ],
   "source": [
    "# comparisons\n",
    "a = [1,2,3]\n",
    "b = [3,2,5]\n",
    "print(np.equal(a,b))\n",
    "print(np.array_equal(a,b))"
   ]
  },
  {
   "cell_type": "code",
   "execution_count": 71,
   "id": "5b6fbe61",
   "metadata": {},
   "outputs": [
    {
     "name": "stdout",
     "output_type": "stream",
     "text": [
      "6\n",
      "1\n",
      "3\n",
      "2.0\n",
      "0.816496580927726\n",
      "2.0\n",
      "1.0\n"
     ]
    }
   ],
   "source": [
    "# aggregate functions\n",
    "a = np.array([1,2,3])\n",
    "print(np.sum(a))\n",
    "print(np.min(a))\n",
    "print(np.max(a))\n",
    "print(np.mean(a))\n",
    "print(np.std(a))\n",
    "print(np.median(a))\n",
    "print(np.corrcoef(a))"
   ]
  },
  {
   "cell_type": "code",
   "execution_count": 78,
   "id": "15b1f95f",
   "metadata": {},
   "outputs": [
    {
     "name": "stdout",
     "output_type": "stream",
     "text": [
      "[[1 2 3]\n",
      " [4 5 6]]\n",
      "[3 4 5]\n",
      "[[ 4  6  8]\n",
      " [ 7  9 11]]\n",
      "[[-2 -2 -2]\n",
      " [ 1  1  1]]\n"
     ]
    }
   ],
   "source": [
    "# array broadcasting\n",
    "a = np.array([[1,2,3],[4,5,6]])\n",
    "b = np.array([3,4,5])\n",
    "print(a)\n",
    "print(b)\n",
    "print(np.sum([a,b]))\n",
    "print(np.subtract(a,b))"
   ]
  },
  {
   "cell_type": "code",
   "execution_count": 86,
   "id": "988e9990",
   "metadata": {},
   "outputs": [
    {
     "name": "stdout",
     "output_type": "stream",
     "text": [
      "[[1 2 3]\n",
      " [4 5 6]]\n",
      "[[3 4 5]\n",
      " [5 6 7]]\n",
      "[[1 2 3]\n",
      " [4 5 6]\n",
      " [3 4 5]\n",
      " [5 6 7]]\n",
      "[[1 2 3 3 4 5]\n",
      " [4 5 6 5 6 7]]\n"
     ]
    }
   ],
   "source": [
    "a = np.array([[1,2,3],[4,5,6]])\n",
    "b = np.array([[3,4,5],[5,6,7]])\n",
    "print(a)\n",
    "print(b)\n",
    "print(np.concatenate([a,b], axis = 0))\n",
    "print(np.concatenate([a,b], axis = 1))"
   ]
  },
  {
   "cell_type": "code",
   "execution_count": 87,
   "id": "bbea72e1",
   "metadata": {},
   "outputs": [
    {
     "name": "stdout",
     "output_type": "stream",
     "text": [
      "[[[1 2 3]\n",
      "  [4 5 6]]\n",
      "\n",
      " [[3 4 5]\n",
      "  [5 6 7]]]\n",
      "[[[1 2 3]\n",
      "  [3 4 5]]\n",
      "\n",
      " [[4 5 6]\n",
      "  [5 6 7]]]\n"
     ]
    }
   ],
   "source": [
    "print(np.stack((a,b), axis=0))\n",
    "print(np.stack((a,b), axis=1))"
   ]
  },
  {
   "cell_type": "code",
   "execution_count": 89,
   "id": "6326ae3d",
   "metadata": {},
   "outputs": [
    {
     "name": "stdout",
     "output_type": "stream",
     "text": [
      "[[1 2 3 3 4 5]\n",
      " [4 5 6 5 6 7]]\n",
      "[[1 2 3]\n",
      " [4 5 6]\n",
      " [3 4 5]\n",
      " [5 6 7]]\n"
     ]
    }
   ],
   "source": [
    "print(np.hstack((a,b)))\n",
    "print(np.vstack((a,b)))"
   ]
  },
  {
   "cell_type": "code",
   "execution_count": 93,
   "id": "32b3e09c",
   "metadata": {},
   "outputs": [
    {
     "name": "stdout",
     "output_type": "stream",
     "text": [
      "[[1 2 3 3 4 5]\n",
      " [4 5 6 5 6 7]]\n"
     ]
    }
   ],
   "source": [
    "print(np.column_stack((a,b)))"
   ]
  },
  {
   "cell_type": "code",
   "execution_count": 125,
   "id": "d11b7cf7",
   "metadata": {},
   "outputs": [
    {
     "name": "stdout",
     "output_type": "stream",
     "text": [
      "[[ 1  2  3]\n",
      " [ 4  5  6]\n",
      " [ 7  8  9]\n",
      " [10 11 12]]\n",
      "[array([[1, 2, 3],\n",
      "       [4, 5, 6]]), array([[ 7,  8,  9],\n",
      "       [10, 11, 12]])]\n",
      "[array([[1, 2, 3]]), array([[4, 5, 6]]), array([[ 7,  8,  9],\n",
      "       [10, 11, 12]])]\n",
      "[array([[ 1],\n",
      "       [ 4],\n",
      "       [ 7],\n",
      "       [10]]), array([[ 2],\n",
      "       [ 5],\n",
      "       [ 8],\n",
      "       [11]]), array([[ 3],\n",
      "       [ 6],\n",
      "       [ 9],\n",
      "       [12]])]\n"
     ]
    }
   ],
   "source": [
    "a = np.array([[1,2,3],[4,5,6],[7,8,9],[10,11,12]])\n",
    "print(a)\n",
    "# np.split(array, index, axis) --> axis = 0 or 1, index is the number of sub arrays u want, if we have 2 subarrays originally\n",
    "# we can take 1 or 2, if we have 3 sub arrays we can take 1,3 , if we have 4 subarrays we can take 1,2,4 so on\n",
    "print(np.split(a,2,0))\n",
    "print(np.split(a,[1,2],0))\n",
    "print(np.split(a,[1,2],1))"
   ]
  },
  {
   "cell_type": "code",
   "execution_count": null,
   "id": "bafd1ed4",
   "metadata": {},
   "outputs": [],
   "source": [
    "# numpy arrays are faster, stores less memory and are more convenient to use than python lists\n",
    "# the reasons for this is, that the elements in numpy array are stored contagiously and the name points to first location\n",
    "# while the elements in the list store the addresses of the data stored else where in memory\n",
    "# so unlike lists, we don't use extra space to store addresses so less memory and faster retrieval\n",
    "# convenient because we have many more methods we can operate on numpy arrays than lists"
   ]
  }
 ],
 "metadata": {
  "kernelspec": {
   "display_name": "Python 3 (ipykernel)",
   "language": "python",
   "name": "python3"
  },
  "language_info": {
   "codemirror_mode": {
    "name": "ipython",
    "version": 3
   },
   "file_extension": ".py",
   "mimetype": "text/x-python",
   "name": "python",
   "nbconvert_exporter": "python",
   "pygments_lexer": "ipython3",
   "version": "3.9.7"
  }
 },
 "nbformat": 4,
 "nbformat_minor": 5
}
